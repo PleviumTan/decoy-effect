{
 "cells": [
  {
   "cell_type": "code",
   "execution_count": 2,
   "id": "2dfa3d6e",
   "metadata": {},
   "outputs": [],
   "source": [
    "CUTOFF = 10"
   ]
  },
  {
   "cell_type": "code",
   "execution_count": 67,
   "id": "96d404b2",
   "metadata": {},
   "outputs": [
    {
     "name": "stderr",
     "output_type": "stream",
     "text": [
      "Processing: 1548rows [00:00, 96339.23rows/s]"
     ]
    },
    {
     "name": "stdout",
     "output_type": "stream",
     "text": [
      "1548\n",
      "[{'id': '5', 'studentID': '2014012759', 'task_id': '11', 'query': ' 清华游泳馆', 'score': '5'}, {'id': '6', 'studentID': '2014012759', 'task_id': '4', 'query': ' 行李托运 国际航班', 'score': '3'}, {'id': '7', 'studentID': '2014012759', 'task_id': '4', 'query': ' 行李托运 国际航班 美国', 'score': '2'}, {'id': '8', 'studentID': '2014012759', 'task_id': '4', 'query': ' 行李托运 国际航班', 'score': '3'}, {'id': '9', 'studentID': '2014012759', 'task_id': '1', 'query': ' 破冰游戏 十人', 'score': '5'}]\n"
     ]
    },
    {
     "name": "stderr",
     "output_type": "stream",
     "text": [
      "\n"
     ]
    }
   ],
   "source": [
    "import csv\n",
    "from tqdm import tqdm\n",
    "\n",
    "# Initialize an empty list to store the records\n",
    "parsed_records = []\n",
    "\n",
    "# Open and read the CSV file\n",
    "with open('data/KDD19/anno_querysatisfaction.csv', 'r', encoding='utf-8') as csvfile:\n",
    "    csvreader = csv.DictReader(csvfile)\n",
    "    \n",
    "    # Loop through each row in the CSV\n",
    "    for row in tqdm(csvreader, desc=\"Processing\", unit=\"rows\"):\n",
    "        # Create a dictionary for each record\n",
    "        record = {\n",
    "            'id': row['id'],\n",
    "            'studentID': row['studentID'],\n",
    "            'task_id': row['task_id'],\n",
    "            'query': row['query'],\n",
    "            'score': row['score']\n",
    "        }\n",
    "        # Append the record dictionary to the list\n",
    "        parsed_records.append(record)\n",
    "\n",
    "# Show first 5 records for verification\n",
    "print(len(parsed_records))\n",
    "print(parsed_records[:5])"
   ]
  },
  {
   "cell_type": "code",
   "execution_count": 68,
   "id": "83d91de6",
   "metadata": {},
   "outputs": [
    {
     "name": "stderr",
     "output_type": "stream",
     "text": [
      "Processing: 100%|██████████████████| 1548/1548 [00:00<00:00, 182586.69records/s]"
     ]
    },
    {
     "name": "stdout",
     "output_type": "stream",
     "text": [
      "Multiple tasks query found:  北京周边 旅游. Tasks: 2, 3\n",
      "Multiple tasks query found: 清华大学. Tasks: 11, 3\n",
      "Multiple tasks query found: 京东. Tasks: 10, 3\n",
      "Multiple tasks query found: 淘宝. Tasks: 8, 3\n"
     ]
    },
    {
     "name": "stderr",
     "output_type": "stream",
     "text": [
      "\n"
     ]
    }
   ],
   "source": [
    "# Initialize an empty dictionary to store the inverted index\n",
    "inverted_index = {}\n",
    "\n",
    "# Loop through each parsed record to populate the inverted index\n",
    "for record in tqdm(parsed_records, desc=\"Processing\", unit=\"records\"):\n",
    "    query = record['query']\n",
    "    task_id = record['task_id']\n",
    "    \n",
    "    # Check if the query is already in the inverted index\n",
    "    if query in inverted_index:\n",
    "        # If the task_id is not already in the list for this query, append it\n",
    "        if task_id not in inverted_index[query]:\n",
    "            inverted_index[query].append(task_id)\n",
    "    else:\n",
    "        # If the query is not in the inverted index, add it with the task_id as the first element in the list\n",
    "        inverted_index[query] = [task_id]\n",
    "\n",
    "# For clarity, ensure each query only maps to unique task_ids\n",
    "for query, task_ids in inverted_index.items():\n",
    "    inverted_index[query] = list(set(task_ids))\n",
    "    if len(inverted_index[query]) > 1:\n",
    "        print(f\"Multiple tasks query found: {query}. Tasks: {', '.join(inverted_index[query])}\")"
   ]
  },
  {
   "cell_type": "code",
   "execution_count": 75,
   "id": "2dce731d",
   "metadata": {},
   "outputs": [
    {
     "name": "stdout",
     "output_type": "stream",
     "text": [
      "1092\n",
      "{' 清华游泳馆': '1', ' 行李托运 国际航班': '2', ' 行李托运 国际航班 美国': '3', ' 破冰游戏 十人': '4', ' 戒烟': '5'}\n"
     ]
    }
   ],
   "source": [
    "# Unique queries in user records\n",
    "query_codebook = {query: str(i+1) for i, query in enumerate(inverted_index.keys())}\n",
    "\n",
    "# sample\n",
    "print(len(query_codebook))\n",
    "print(dict(list(query_codebook.items())[:5]))"
   ]
  },
  {
   "cell_type": "code",
   "execution_count": 71,
   "id": "2a51ec7a",
   "metadata": {},
   "outputs": [
    {
     "name": "stderr",
     "output_type": "stream",
     "text": [
      "Processing: 18389rows [00:33, 551.00rows/s] \n"
     ]
    }
   ],
   "source": [
    "doc_topic_map = {}\n",
    "doc_text_map = {}\n",
    "\n",
    "import csv\n",
    "from tqdm import tqdm\n",
    "from bs4 import BeautifulSoup\n",
    "\n",
    "# Define a function to extract text from the HTML content\n",
    "def extract_text_from_html(html_content):\n",
    "    soup = BeautifulSoup(html_content, 'html.parser')\n",
    "    \n",
    "    # Remove content within <div class=\"r-sech ext_query\">\n",
    "    for div in soup.find_all(\"div\", class_=\"r-sech ext_query\"):\n",
    "        div.decompose()\n",
    "    \n",
    "    # Extract text from the parsed HTML\n",
    "    extracted_text = soup.get_text()\n",
    "    \n",
    "    # Remove unwanted trailing text\n",
    "    unwanted_text = '翻译此页 \\xa0-\\xa0快照\\xa0-\\xa0预览'\n",
    "    if unwanted_text in extracted_text:\n",
    "        extracted_text = extracted_text.replace(unwanted_text, \"\")\n",
    "        \n",
    "    return extracted_text.strip()\n",
    "\n",
    "exception_query = []\n",
    "\n",
    "with open('data/KDD19/anno_searchresult.csv', 'r', encoding='utf-8') as csvfile:\n",
    "    csvreader = csv.DictReader(csvfile)\n",
    "    \n",
    "    for row in tqdm(csvreader, desc=\"Processing\", unit=\"rows\"):\n",
    "        query = row['query']\n",
    "        if query not in query_codebook:\n",
    "            if query not in exception_query:\n",
    "                exception_query.append(query)\n",
    "            continue\n",
    "        rank = row['rank']\n",
    "        docno = query_codebook[query] + '_' + rank\n",
    "        \n",
    "        # Extract text from the HTML content\n",
    "        content_text = extract_text_from_html(row[\"content\"])\n",
    "        doc_text_map[docno] = content_text\n",
    "        # Check if query exists in invert_index, if not assign it to a dummy topic\n",
    "        topic = inverted_index.get(query, ['unknown_topic'])\n",
    "        \n",
    "        doc_topic_map[docno] = topic"
   ]
  },
  {
   "cell_type": "code",
   "execution_count": 73,
   "id": "7ac46dec",
   "metadata": {},
   "outputs": [
    {
     "name": "stdout",
     "output_type": "stream",
     "text": [
      "100\n"
     ]
    }
   ],
   "source": [
    "print(len(exception_query))"
   ]
  },
  {
   "cell_type": "code",
   "execution_count": 79,
   "id": "f3ee514f",
   "metadata": {},
   "outputs": [
    {
     "name": "stdout",
     "output_type": "stream",
     "text": [
      "16870\n",
      "{'728_0': ['7'], '728_1': ['7'], '728_2': ['7'], '728_3': ['7'], '728_4': ['7']}\n",
      "{'728_0': '看看戒烟的十大好处   首先要下定决心知道戒烟的好处有哪些，那么接下来就和天天营养的编编一起先来看看戒烟的好处吧！ 1，延缓皮肤衰老 停止吸烟能延缓面部衰老，延迟皱纹出现。不吸烟者的皮肤...  www.jieyanri.com/ji...\\xa0-\\xa02016-12-29', '728_1': '戒烟的好处 - 三九养生堂   今天小编就给大家介绍一下如何戒烟、戒烟的好处以及戒烟后的症状，刚兴趣的小伙伴 医院戒烟门诊已64天无人就诊沈阳男性吸烟率44.7%，戒烟门诊患者却不多2015年12月28日...  三九养生堂 - www.39yst.com/flist...\\xa0-\\xa02017-11-30', '728_2': '戒烟的好处有哪些_亲子百科_太平洋亲子网   （二）戒烟后的远期好处 1、患癌的危险性减少 戒烟5-10年后，其肺癌死亡率比不吸烟者略为高一点，戒烟10-15后，得肺癌的机会便可降低到与不吸烟一样。据日本调查，吸烟总...  baike.pcbaby.com.cn...\\xa0-\\xa02017-11-29', '728_3': '戒烟的好处非常多 - 好大夫在线   2014年3月7日 - 戒烟的好处非常多： 1）戒烟一天， 戒烟给心脏、血压和血液系统带来的益处便会显现出来 。 2）戒烟1年，冠心病的超额危险性比继续吸烟者下降一半 。 3）戒...  好大夫在线 - www.haodf.com/zhuan...\\xa0-\\xa02014-3-7', '728_4': '看看戒烟后不同时间段的好处   1.戒烟后20分钟心率开始恢复正常 戒烟的健康益处立即就会显现出来。距离你吸完最后一支香烟20分钟，你的心率就渐渐开始向正常水平恢复。 2.戒烟后两小时外周循环得到改善 ...  www.jieyanri.com/ji...\\xa0-\\xa02015-6-9'}\n"
     ]
    }
   ],
   "source": [
    "# sample\n",
    "print(len(doc_topic_map))\n",
    "print(dict(list(doc_topic_map.items())[:5]))\n",
    "print(dict(list(doc_text_map.items())[:5]))"
   ]
  },
  {
   "cell_type": "code",
   "execution_count": 77,
   "id": "d06164be",
   "metadata": {},
   "outputs": [],
   "source": [
    "# topic-doc\n",
    "topic_doc_map = {}\n",
    "for docno, topics in doc_topic_map.items():\n",
    "    for topic in topics:\n",
    "        if topic not in topic_doc_map:\n",
    "            topic_doc_map[topic] = []\n",
    "        topic_doc_map[topic].append(docno)"
   ]
  },
  {
   "cell_type": "code",
   "execution_count": 83,
   "id": "15ef2bec",
   "metadata": {},
   "outputs": [
    {
     "name": "stdout",
     "output_type": "stream",
     "text": [
      "9\n"
     ]
    }
   ],
   "source": [
    "# sample\n",
    "print(len(topic_doc_map))\n",
    "#print(dict(list(topic_doc_map.items())[:1]))"
   ]
  },
  {
   "cell_type": "markdown",
   "id": "79c4f017",
   "metadata": {},
   "source": [
    "# Utility Functions to Compute Sentence Similarity"
   ]
  },
  {
   "cell_type": "code",
   "execution_count": 84,
   "id": "d1c01fa1",
   "metadata": {},
   "outputs": [],
   "source": [
    "from Levenshtein import distance, ratio\n",
    "import jieba\n",
    "from collections import Counter\n",
    "from math import sqrt\n",
    "\n",
    "SW_PATH = 'utils/stop_words.txt'\n",
    "SW_LIST = [k.strip() for k in open(SW_PATH, encoding='utf8').readlines() if k.strip() != '']\n",
    "\n",
    "# Get Stopword List\n",
    "def get_tl_no_sw(input_sentence):\n",
    "    token_list = jieba.cut(input_sentence)\n",
    "    return list(filter(lambda x: not(x == ' ' or (len(x) == 1 and x in SW_LIST)), token_list))\n"
   ]
  },
  {
   "cell_type": "code",
   "execution_count": 85,
   "id": "e49fe017",
   "metadata": {},
   "outputs": [],
   "source": [
    "# Solution 1\n",
    "# Levenshtein normalized similarity\n",
    "\n",
    "def get_lev_sim(list1, list2):\n",
    "    return ratio(''.join(sl_no_sw_1), ''.join(sl_no_sw_2))\n",
    "\n",
    "# Solution 2\n",
    "# Cosine Similarity\n",
    "\n",
    "def get_cos_sim(list1, list2):\n",
    "    # Step 1: Create a vocabulary\n",
    "    vocab = set(list1) | set(list2)\n",
    "    \n",
    "    # Step 2: Create word frequency vectors\n",
    "    vec1 = Counter(list1)\n",
    "    vec2 = Counter(list2)\n",
    "    \n",
    "    # Step 3: Calculate cosine similarity\n",
    "    intersection = set(vec1.keys()) & set(vec2.keys())\n",
    "    numerator = sum([vec1[x] * vec2[x] for x in intersection])\n",
    "\n",
    "    sum1 = sum([vec1[x]**2 for x in vec1.keys()])\n",
    "    sum2 = sum([vec2[x]**2 for x in vec2.keys()])\n",
    "    denominator = sqrt(sum1) * sqrt(sum2)\n",
    "\n",
    "    if not denominator:\n",
    "        return 0.0\n",
    "    else:\n",
    "        return float(numerator) / denominator\n"
   ]
  },
  {
   "cell_type": "code",
   "execution_count": 86,
   "id": "eba55fb6",
   "metadata": {},
   "outputs": [],
   "source": [
    "# Define a placeholder get_sim function for demonstration purpose\n",
    "def get_sim(tl_1, tl_2):\n",
    "    return get_cos_sim(tl_1, tl_2)"
   ]
  },
  {
   "cell_type": "code",
   "execution_count": 87,
   "id": "cb94d34e",
   "metadata": {},
   "outputs": [
    {
     "name": "stderr",
     "output_type": "stream",
     "text": [
      "Processing: 100%|█████████████████████| 16870/16870 [00:10<00:00, 1620.57docs/s]\n"
     ]
    }
   ],
   "source": [
    "from tqdm import tqdm\n",
    "\n",
    "for k, v in tqdm(doc_text_map.items(), desc=\"Processing\", unit=\"docs\"):\n",
    "    doc_text_map[k] = get_tl_no_sw(v)"
   ]
  },
  {
   "cell_type": "code",
   "execution_count": 88,
   "id": "188ed985",
   "metadata": {},
   "outputs": [],
   "source": [
    "import json\n",
    "# VERY time consuming\n",
    "def get_similarity_pair():\n",
    "    similarity_scores = {}\n",
    "    # For each topic, compare each document with every other document in the same topic\n",
    "    for topic, documents in topic_doc_map.items():\n",
    "        print(\"Currently processing: \" + topic)\n",
    "        for doc_id1 in tqdm(documents, desc=\"Processing topics\"):\n",
    "            for doc_id2 in documents:\n",
    "                # Ensure doc_id1 is smaller than doc_id2\n",
    "                if doc_id1 >= doc_id2:\n",
    "                    continue\n",
    "                # Calculate similarity\n",
    "                similarity = get_sim(doc_text_map[doc_id1], doc_text_map[doc_id2])\n",
    "                # Store in the dictionary\n",
    "                if doc_id1 not in similarity_scores:\n",
    "                    similarity_scores[doc_id1] = {}\n",
    "                similarity_scores[doc_id1][doc_id2] =  round(similarity, 3)\n",
    "\n",
    "    # Save the similarity scores to a JSON file\n",
    "    OUTPUT_FILE = \"output/similarity_scores_kdd.json\"\n",
    "    with open(OUTPUT_FILE, 'w') as f:\n",
    "        json.dump(similarity_scores, f)"
   ]
  },
  {
   "cell_type": "code",
   "execution_count": 89,
   "id": "cce95925",
   "metadata": {},
   "outputs": [
    {
     "name": "stdout",
     "output_type": "stream",
     "text": [
      "Currently processing: 7\n"
     ]
    },
    {
     "name": "stderr",
     "output_type": "stream",
     "text": [
      "Processing topics: 100%|██████████████████████| 841/841 [00:13<00:00, 64.44it/s]\n"
     ]
    },
    {
     "name": "stdout",
     "output_type": "stream",
     "text": [
      "Currently processing: 11\n"
     ]
    },
    {
     "name": "stderr",
     "output_type": "stream",
     "text": [
      "Processing topics: 100%|████████████████████| 1948/1948 [01:13<00:00, 26.40it/s]\n"
     ]
    },
    {
     "name": "stdout",
     "output_type": "stream",
     "text": [
      "Currently processing: 4\n"
     ]
    },
    {
     "name": "stderr",
     "output_type": "stream",
     "text": [
      "Processing topics: 100%|████████████████████| 2611/2611 [02:13<00:00, 19.57it/s]\n"
     ]
    },
    {
     "name": "stdout",
     "output_type": "stream",
     "text": [
      "Currently processing: 1\n"
     ]
    },
    {
     "name": "stderr",
     "output_type": "stream",
     "text": [
      "Processing topics: 100%|████████████████████| 1187/1187 [00:28<00:00, 41.31it/s]\n"
     ]
    },
    {
     "name": "stdout",
     "output_type": "stream",
     "text": [
      "Currently processing: 10\n"
     ]
    },
    {
     "name": "stderr",
     "output_type": "stream",
     "text": [
      "Processing topics: 100%|████████████████████| 2153/2153 [01:35<00:00, 22.60it/s]\n"
     ]
    },
    {
     "name": "stdout",
     "output_type": "stream",
     "text": [
      "Currently processing: 8\n"
     ]
    },
    {
     "name": "stderr",
     "output_type": "stream",
     "text": [
      "Processing topics: 100%|██████████████████████| 825/825 [00:13<00:00, 61.87it/s]\n"
     ]
    },
    {
     "name": "stdout",
     "output_type": "stream",
     "text": [
      "Currently processing: 2\n"
     ]
    },
    {
     "name": "stderr",
     "output_type": "stream",
     "text": [
      "Processing topics: 100%|████████████████████| 2660/2660 [02:18<00:00, 19.25it/s]\n"
     ]
    },
    {
     "name": "stdout",
     "output_type": "stream",
     "text": [
      "Currently processing: 3\n"
     ]
    },
    {
     "name": "stderr",
     "output_type": "stream",
     "text": [
      "Processing topics: 100%|████████████████████| 3163/3163 [03:03<00:00, 17.28it/s]\n"
     ]
    },
    {
     "name": "stdout",
     "output_type": "stream",
     "text": [
      "Currently processing: 12\n"
     ]
    },
    {
     "name": "stderr",
     "output_type": "stream",
     "text": [
      "Processing topics: 100%|████████████████████| 1551/1551 [00:46<00:00, 33.08it/s]\n"
     ]
    }
   ],
   "source": [
    "#get_similarity_pair()\n",
    "# or read json file directly\n",
    "#with open('output/similarity_scores_kdd.json', 'r', encoding='utf-8') as file:\n",
    "#    similarity_scores = json.load(file)"
   ]
  },
  {
   "cell_type": "code",
   "execution_count": 91,
   "id": "846baf8a",
   "metadata": {},
   "outputs": [],
   "source": [
    "import os\n",
    "if not os.path.exists('output/similarity_scores_kdd.json'):\n",
    "    get_similarity_pair()\n",
    "    \n",
    "# Read JSON file directly\n",
    "with open('output/similarity_scores_kdd.json', 'r', encoding='utf-8') as file:\n",
    "    similarity_scores = json.load(file)"
   ]
  },
  {
   "cell_type": "code",
   "execution_count": 92,
   "id": "d053b376",
   "metadata": {},
   "outputs": [
    {
     "name": "stdout",
     "output_type": "stream",
     "text": [
      "[('728_0', '728_1', 0.429), ('728_0', '728_2', 0.434), ('728_0', '728_3', 0.402), ('728_0', '728_4', 0.394), ('728_0', '728_5', 0.412)]\n"
     ]
    }
   ],
   "source": [
    "similarity_pair_list = [(docno1, docno2, score) \n",
    "               for docno1, inner_dict in similarity_scores.items() \n",
    "               for docno2, score in inner_dict.items()]\n",
    "\n",
    "print(similarity_pair_list[:5])"
   ]
  },
  {
   "cell_type": "code",
   "execution_count": 106,
   "id": "f8d7da36",
   "metadata": {},
   "outputs": [
    {
     "data": {
      "text/plain": [
       "{80: 0.322, 90: 0.392, 95: 0.456, 99: 0.6, 99.5: 0.678, 99.9: 0.977}"
      ]
     },
     "execution_count": 106,
     "metadata": {},
     "output_type": "execute_result"
    }
   ],
   "source": [
    "import numpy as np\n",
    "\n",
    "# Extract the similarity scores\n",
    "similarity_list = [x[2] for x in similarity_pair_list]\n",
    "\n",
    "# Function to calculate the xth percentile\n",
    "def calculate_percentile(scores, x):\n",
    "    return np.percentile(scores, x)\n",
    "\n",
    "# Calculate percentiles for 10, 20, 25, 50, 75, 90\n",
    "percentiles = [80, 90, 95, 99, 99.5, 99.9]\n",
    "percentile_values = {x: calculate_percentile(similarity_list, x) for x in percentiles}\n",
    "\n",
    "percentile_values"
   ]
  },
  {
   "cell_type": "markdown",
   "id": "b5c4887b",
   "metadata": {},
   "source": [
    "# Utility Functions to Get Document Usefulness & Relevance"
   ]
  },
  {
   "cell_type": "markdown",
   "id": "4ab8460a",
   "metadata": {},
   "source": [
    "## Relevance"
   ]
  },
  {
   "cell_type": "code",
   "execution_count": 97,
   "id": "ed1e5a76",
   "metadata": {},
   "outputs": [],
   "source": [
    "# Here is the complete code to read the txt file and process it\n",
    "\n",
    "# Initialize the result dictionary\n",
    "doc_task_relevance_map = {}\n",
    "\n",
    "# Read the file and parse it line by line\n",
    "with open('data/KDD19/all_relevance_annotation.txt', 'r', encoding='utf-8') as file:\n",
    "    # Skip the header line (column names)\n",
    "    file.readline()\n",
    "    \n",
    "    # Read each line from the file\n",
    "    for line in file:\n",
    "        # Split each line by tab to get individual elements\n",
    "        task, query, url, rank, query_relevance, task_relevance = line.split('\\t')\n",
    "        \n",
    "        # Get the query_id from query_codebook\n",
    "        query_id = query_codebook.get(query, None)\n",
    "        \n",
    "        # Skip if query not in query_codebook\n",
    "        if query_id is None:\n",
    "            continue\n",
    "        \n",
    "        # Create docno\n",
    "        docno = query_id + '_' + rank.strip()\n",
    "        \n",
    "        # Add to the result dictionary\n",
    "        doc_task_relevance_map[docno] = int(task_relevance.strip())"
   ]
  },
  {
   "cell_type": "code",
   "execution_count": 98,
   "id": "6df15b0e",
   "metadata": {},
   "outputs": [
    {
     "name": "stdout",
     "output_type": "stream",
     "text": [
      "{'345_0': 1, '675_2': 3, '277_1': 3, '111_9': 2, '260_9': 2}\n"
     ]
    }
   ],
   "source": [
    "print(dict(list(doc_task_relevance_map.items())[:5]))"
   ]
  },
  {
   "cell_type": "markdown",
   "id": "ff03025c",
   "metadata": {},
   "source": [
    "## Usefulness"
   ]
  },
  {
   "cell_type": "code",
   "execution_count": 99,
   "id": "2900dffc",
   "metadata": {},
   "outputs": [
    {
     "data": {
      "text/plain": [
       "{'2014012759_11_1_0': '4',\n",
       " '2014012759_4_2_2': '3',\n",
       " '2014012759_4_3_1': '2',\n",
       " '2014012759_4_3_7': '1',\n",
       " '2014012759_1_4_0': '3'}"
      ]
     },
     "execution_count": 99,
     "metadata": {},
     "output_type": "execute_result"
    }
   ],
   "source": [
    "import csv\n",
    "\n",
    "# Initialize the result dictionary\n",
    "record_score_map = {}\n",
    "\n",
    "# Read the CSV file\n",
    "with open('data/KDD19/anno_annotation.csv', 'r', encoding='utf-8') as csvfile:\n",
    "    csvreader = csv.DictReader(csvfile)\n",
    "    \n",
    "    # Read each row in the csv\n",
    "    for row in csvreader:\n",
    "        # Get necessary fields\n",
    "        studentID = row['studentID']\n",
    "        task_id = row['task_id']\n",
    "        query = row['query']\n",
    "        result_id = row['result_id'].replace('rb_', '')\n",
    "        score = row['score']\n",
    "        \n",
    "        # Get query_id from query_codebook\n",
    "        query_id = query_codebook.get(query, None)\n",
    "        \n",
    "        # Skip if query not in query_codebook\n",
    "        if query_id is None:\n",
    "            continue\n",
    "        \n",
    "        # Create record_id\n",
    "        record_id = f\"{studentID}_{task_id}_{query_id}_{result_id}\"\n",
    "        \n",
    "        # Add to result dictionary\n",
    "        record_score_map[record_id] = score\n",
    "\n",
    "# Show a portion of the result\n",
    "dict(list(record_score_map.items())[:5])"
   ]
  },
  {
   "cell_type": "markdown",
   "id": "e5940654",
   "metadata": {},
   "source": [
    "# Find Potential Decoy Pairs"
   ]
  },
  {
   "cell_type": "code",
   "execution_count": 117,
   "id": "0e42f30e",
   "metadata": {},
   "outputs": [
    {
     "name": "stdout",
     "output_type": "stream",
     "text": [
      "1082\n",
      "[{'student_id': '1701110210', 'task_id': '10', 'session_num': '1701110210_10', 'interaction_num': '0', 'docno_target': '96_1', 'rank_target': 1, 'docno_decoy': '96_8', 'rank_decoy': 8}, {'student_id': '1701110210', 'task_id': '10', 'session_num': '1701110210_10', 'interaction_num': '5', 'docno_target': '25_1', 'rank_target': 1, 'docno_decoy': '25_9', 'rank_decoy': 9}, {'student_id': '1701110210', 'task_id': '10', 'session_num': '1701110210_10', 'interaction_num': '5', 'docno_target': '25_2', 'rank_target': 2, 'docno_decoy': '25_5', 'rank_decoy': 5}, {'student_id': '1701110210', 'task_id': '10', 'session_num': '1701110210_10', 'interaction_num': '5', 'docno_target': '25_7', 'rank_target': 7, 'docno_decoy': '25_5', 'rank_decoy': 5}, {'student_id': '1701110210', 'task_id': '11', 'session_num': '1701110210_11', 'interaction_num': '2', 'docno_target': '95_6', 'rank_target': 6, 'docno_decoy': '95_5', 'rank_decoy': 5}]\n"
     ]
    }
   ],
   "source": [
    "SIM_THRESHOLD_DECOY_MIN = calculate_percentile(similarity_list, 99)   # 假设的相似度阈值\n",
    "SIM_THRESHOLD_DECOY_MAX = 0.95\n",
    "# Initialize an empty list to store the decoy pairs\n",
    "decoy_pair = []\n",
    "\n",
    "# Loop through each record in result_list_grouped_queries\n",
    "for record in result_list_grouped_queries:\n",
    "    student_id = record['student_id']\n",
    "    task_id = record['task_id']\n",
    "    queries = record['query']\n",
    "    \n",
    "    for query_order, query in enumerate(queries):\n",
    "        query_id = query_codebook.get(query, None)  # Retrieve query_id from query_codebook\n",
    "        if query_id is None:\n",
    "            continue  # Skip if query_id is not found\n",
    "        \n",
    "        # Generate docnos for the top CUTOFF ranks\n",
    "        docnos = [f\"{query_id}_{rank}\" for rank in range(CUTOFF)]\n",
    "        \n",
    "        # Loop through each pair of docnos to calculate similarity and relevance\n",
    "        for i, docno1 in enumerate(docnos):\n",
    "            for j, docno2 in enumerate(docnos):\n",
    "                if i >= j:\n",
    "                    continue  # Skip duplicate pairs\n",
    "                \n",
    "                # Retrieve similarity score\n",
    "                similarity = similarity_scores.get(docno1, {}).get(docno2, 0)  # Handle key not existing\n",
    "                if similarity == 0:\n",
    "                    similarity = similarity_scores.get(docno2, {}).get(docno1, 0)  # Reverse key order\n",
    "                \n",
    "                # Retrieve relevance score\n",
    "                rel_doc1 = doc_task_relevance_map.get(docno1, 0)  # Handle key not existing\n",
    "                rel_doc2 = doc_task_relevance_map.get(docno2, 0)  # Handle key not existing\n",
    "                \n",
    "                # Check conditions and append to decoy_pair list\n",
    "                if SIM_THRESHOLD_DECOY_MIN <= similarity <= SIM_THRESHOLD_DECOY_MAX:\n",
    "                    if rel_doc1 - rel_doc2 >= 2:\n",
    "                        decoy_pair.append({\n",
    "                            'student_id': student_id,\n",
    "                            'task_id': task_id,\n",
    "                            'session_num': student_id + '_' + task_id,\n",
    "                            'interaction_num': str(query_order),\n",
    "                            'docno_target': docno1,\n",
    "                            'rank_target': i,\n",
    "                            'docno_decoy': docno2,\n",
    "                            'rank_decoy': j\n",
    "                        })\n",
    "                    elif rel_doc2 - rel_doc1 >= 2:\n",
    "                        decoy_pair.append({\n",
    "                            'student_id': student_id,\n",
    "                            'task_id': task_id,\n",
    "                            'session_num': student_id + '_' + task_id,\n",
    "                            'interaction_num': str(query_order),\n",
    "                            'docno_target': docno2,\n",
    "                            'rank_target': j,\n",
    "                            'docno_decoy': docno1,\n",
    "                            'rank_decoy': i\n",
    "                        })\n",
    "\n",
    "# Show the first few decoy pairs as a sample\n",
    "print(len(decoy_pair))\n",
    "print(decoy_pair[:5])"
   ]
  },
  {
   "cell_type": "code",
   "execution_count": 115,
   "id": "5eb6e5af",
   "metadata": {},
   "outputs": [
    {
     "name": "stdout",
     "output_type": "stream",
     "text": [
      "Decoy Pairs Count: 1082\n",
      "Count of Documents that have at least one decoy: 458\n"
     ]
    }
   ],
   "source": [
    "decoy_index = [item['docno_target'] for item in decoy_pair]\n",
    "print(\"Decoy Pairs Count: %d\"%len(decoy_index))\n",
    "print(\"Count of Documents that have at least one decoy: %d\"%len(set(decoy_index)))\n",
    "#print(decoy_index[:5])"
   ]
  },
  {
   "cell_type": "markdown",
   "id": "46f24d80",
   "metadata": {},
   "source": [
    "# Find Control Documents"
   ]
  },
  {
   "cell_type": "code",
   "execution_count": 143,
   "id": "a5976814",
   "metadata": {},
   "outputs": [
    {
     "name": "stdout",
     "output_type": "stream",
     "text": [
      "0.678\n",
      "Count of Target Documents that have at least one Control Document: 424\n",
      "Count of Control Documents: 2116\n"
     ]
    }
   ],
   "source": [
    "relevance_data = doc_task_relevance_map\n",
    "# Assuming a threshold for the sake of demonstration\n",
    "SIM_THRESHOLD_CONTROL = calculate_percentile(similarity_list, 99.5)  \n",
    "print(SIM_THRESHOLD_CONTROL)\n",
    "target_doc_list = []\n",
    "control_doc_list = []\n",
    "\n",
    "# Processing the data as per given conditions\n",
    "for docno1, docno2, similarity_score in similarity_pair_list:\n",
    "    if similarity_score > SIM_THRESHOLD_CONTROL:\n",
    "        # 检查条件\n",
    "        rel_doc1 = relevance_data[docno1] if docno1 in relevance_data else 0\n",
    "        rel_doc2 = relevance_data[docno2] if docno2 in relevance_data else 0\n",
    "        if abs(rel_doc1 - rel_doc2 <= 2):\n",
    "            if (docno1 in decoy_index and docno2 not in decoy_index):\n",
    "                target_doc_list.append(docno1)\n",
    "                control_doc_list.append(docno2)\n",
    "            elif (docno2 in decoy_index and docno1 not in decoy_index):\n",
    "                target_doc_list.append(docno2)\n",
    "                control_doc_list.append(docno1)\n",
    "\n",
    "target_doc_set = set(target_doc_list)\n",
    "print(\"Count of Target Documents that have at least one Control Document: %d\"% len(target_doc_set))\n",
    "control_doc_set = set(control_doc_list)\n",
    "print(\"Count of Control Documents: %d\" % len(control_doc_set))"
   ]
  },
  {
   "cell_type": "code",
   "execution_count": 144,
   "id": "7c12de1c",
   "metadata": {},
   "outputs": [
    {
     "data": {
      "text/plain": [
       "['837_3', '762_7', '713_9', '162_0', '436_21']"
      ]
     },
     "execution_count": 144,
     "metadata": {},
     "output_type": "execute_result"
    }
   ],
   "source": [
    "list(control_doc_set)[:5]"
   ]
  },
  {
   "cell_type": "code",
   "execution_count": 133,
   "id": "b84b9d2f",
   "metadata": {},
   "outputs": [
    {
     "name": "stdout",
     "output_type": "stream",
     "text": [
      "Records of decoy target documents, by impression : 770\n"
     ]
    }
   ],
   "source": [
    "decoy_target_record = []\n",
    "decoy_decoy_record = []\n",
    "for item in decoy_pair:\n",
    "    if item['docno_target'] in target_doc_set:\n",
    "        target_id = item['session_num'] + '_' + item['docno_target']\n",
    "        decoy_id =  item['session_num'] + '_' + item['docno_decoy']\n",
    "        decoy_target_record.append(target_id)\n",
    "        decoy_decoy_record.append(decoy_id)\n",
    "    \n",
    "decoy_target_record = set(decoy_target_record)\n",
    "decoy_decoy_record = set(decoy_decoy_record)\n",
    "\n",
    "print(\"Records of decoy target documents, by impression : %d\"%len(decoy_target_record))"
   ]
  },
  {
   "cell_type": "markdown",
   "id": "bc65395b",
   "metadata": {},
   "source": [
    "# Compare User Feedback"
   ]
  },
  {
   "cell_type": "code",
   "execution_count": 141,
   "id": "f24706c4",
   "metadata": {},
   "outputs": [
    {
     "name": "stderr",
     "output_type": "stream",
     "text": [
      "Processing:  58%|███████████        | 174792/299731 [00:00<00:00, 289759.94it/s]"
     ]
    },
    {
     "name": "stdout",
     "output_type": "stream",
     "text": [
      "Exception encountered: readonly attribute at line 123228\n",
      "Exception encountered: readonly attribute at line 127912\n"
     ]
    },
    {
     "name": "stderr",
     "output_type": "stream",
     "text": [
      "Processing:  87%|████████████████▌  | 262081/299731 [00:00<00:00, 275985.54it/s]"
     ]
    },
    {
     "name": "stdout",
     "output_type": "stream",
     "text": [
      "Exception encountered: readonly attribute at line 220245\n"
     ]
    },
    {
     "name": "stderr",
     "output_type": "stream",
     "text": [
      "Processing: 100%|██████████████████▉| 299487/299731 [00:01<00:00, 285713.33it/s]"
     ]
    },
    {
     "name": "stdout",
     "output_type": "stream",
     "text": [
      "989\n"
     ]
    },
    {
     "name": "stderr",
     "output_type": "stream",
     "text": [
      "\n"
     ]
    },
    {
     "data": {
      "text/plain": [
       "[{'docno': '5_2',\n",
       "  'rank': 2,\n",
       "  'click': True,\n",
       "  'endtime': 1512980195895,\n",
       "  'starttime': 1512980195842,\n",
       "  'usefulness': 0},\n",
       " {'docno': '5_1',\n",
       "  'rank': 1,\n",
       "  'click': False,\n",
       "  'endtime': -1,\n",
       "  'starttime': -1,\n",
       "  'usefulness': 0},\n",
       " {'docno': '5_3',\n",
       "  'rank': 3,\n",
       "  'click': False,\n",
       "  'endtime': -1,\n",
       "  'starttime': -1,\n",
       "  'usefulness': 0},\n",
       " {'docno': '5_4',\n",
       "  'rank': 4,\n",
       "  'click': False,\n",
       "  'endtime': -1,\n",
       "  'starttime': -1,\n",
       "  'usefulness': 0},\n",
       " {'docno': '5_6',\n",
       "  'rank': 6,\n",
       "  'click': False,\n",
       "  'endtime': -1,\n",
       "  'starttime': -1,\n",
       "  'usefulness': 0}]"
      ]
     },
     "execution_count": 141,
     "metadata": {},
     "output_type": "execute_result"
    }
   ],
   "source": [
    "FILE_PATH_LOG = 'data/KDD19/anno_log.csv'\n",
    "# Initialize list to store target_doc_interaction\n",
    "target_doc_interaction = []\n",
    "\n",
    "# Initialize variables to keep track of current impression\n",
    "current_student_id = None\n",
    "current_task_id = None\n",
    "current_query = None\n",
    "impression_docs = set()\n",
    "\n",
    "# Function to handle exceptions and errors\n",
    "def handle_exception(e, line_number):\n",
    "    print(f\"Exception encountered: {e} at line {line_number}\")\n",
    "\n",
    "    # Get the total number of lines in the file for tqdm progress bar\n",
    "total_lines = sum(1 for line in open(FILE_PATH_LOG, 'r', encoding='utf-8')) - 1  # Exclude header\n",
    "\n",
    "# Function to parse content for time\n",
    "def parse_time(content):\n",
    "    time_entry = [entry.split('=')[1] for entry in content.split('\\t') if entry.startswith('TIME')]\n",
    "    return int(time_entry[0]) if time_entry else -1\n",
    "       \n",
    "# Read the file and process as per requirements\n",
    "try:\n",
    "    with open(FILE_PATH_LOG, 'r', encoding='utf-8') as csvfile:\n",
    "        csvreader = csv.reader(csvfile)\n",
    "        header = next(csvreader)  # Skip the header\n",
    "\n",
    "        for row in tqdm(csvreader, total=total_lines, desc=\"Processing\"):\n",
    "            try:\n",
    "                _, _, student_id, task_id, action, query, content = row\n",
    "\n",
    "                # Skip rows with empty queries or queries not in query_codebook\n",
    "                if query.strip() == '' or query not in query_codebook:\n",
    "                    continue\n",
    "\n",
    "                # Check for new impression\n",
    "                if current_student_id != student_id or current_task_id != task_id or current_query != query:\n",
    "                    # Process unclicked docs for last impression if current_query is initialized\n",
    "                    if current_query:\n",
    "                        for rank in range(10):\n",
    "                            docno = f\"{query_codebook[current_query]}_{rank}\"\n",
    "                            doc_id = f\"{current_student_id}_{current_task_id}_{docno}\"\n",
    "                            if doc_id in decoy_target_record and docno not in impression_docs:\n",
    "                                target_doc_interaction.append({\n",
    "                                    'docno': docno,\n",
    "                                    'rank': rank,\n",
    "                                    'click': False,\n",
    "                                    'endtime': -1,\n",
    "                                    'starttime': -1,\n",
    "                                    'usefulness': int(record_score_map.get(doc_id, '0'))\n",
    "                                })\n",
    "\n",
    "                    # Reset current impression details\n",
    "                    current_student_id = student_id\n",
    "                    current_task_id = task_id\n",
    "                    current_query = query\n",
    "                    impression_docs = set()\n",
    "\n",
    "                # Process CLICK actions\n",
    "                if action == 'CLICK':\n",
    "                    rank = int(content.split('rank=')[1].split('\\t')[0])\n",
    "                    docno = f\"{query_codebook[query]}_{rank}\"\n",
    "                    doc_id = f\"{student_id}_{task_id}_{docno}\"\n",
    "                    #print(doc_id)\n",
    "                    impression_docs.add(docno)\n",
    "\n",
    "                    if doc_id in decoy_target_record:\n",
    "                        # Find endtime from next row\n",
    "                        endtime = -1\n",
    "                        next_row = next(csvreader, None)\n",
    "                        if next_row:\n",
    "                            next_student_id = next_row[2]\n",
    "                            next_task_id = next_row[3]\n",
    "                            if next_student_id == student_id and next_task_id == task_id:\n",
    "                                endtime = parse_time(next_row[6])\n",
    "                            else:\n",
    "                                csvreader.line_num -= 1  # Go back one row if next row is not part of current impression\n",
    "\n",
    "                        # Append the click action data to target_doc_interaction\n",
    "                        target_doc_interaction.append({\n",
    "                            'docno': docno,\n",
    "                            'rank': rank,\n",
    "                            'click': True,\n",
    "                            'endtime': endtime,\n",
    "                            'starttime': parse_time(content),\n",
    "                            'usefulness': int(record_score_map.get(doc_id, '0'))\n",
    "                        })\n",
    "            except Exception as e:\n",
    "                handle_exception(e, csvreader.line_num)\n",
    "except Exception as e:\n",
    "    handle_exception(e, \"Reading File\")\n",
    "\n",
    "# Display the first few rows of the target_doc_interaction for review\n",
    "print(len(target_doc_interaction))\n",
    "target_doc_interaction[:5]"
   ]
  },
  {
   "cell_type": "code",
   "execution_count": 153,
   "id": "eb4fec1f",
   "metadata": {},
   "outputs": [
    {
     "name": "stderr",
     "output_type": "stream",
     "text": [
      "Processing:  29%|█████▊              | 87947/299731 [00:00<00:00, 290668.54it/s]"
     ]
    },
    {
     "name": "stdout",
     "output_type": "stream",
     "text": [
      "Exception encountered: readonly attribute at line 32903\n",
      "Exception encountered: readonly attribute at line 96472\n"
     ]
    },
    {
     "name": "stderr",
     "output_type": "stream",
     "text": [
      "Processing: 100%|██████████████████▉| 299125/299731 [00:01<00:00, 294034.04it/s]"
     ]
    },
    {
     "name": "stdout",
     "output_type": "stream",
     "text": [
      "2881\n"
     ]
    },
    {
     "name": "stderr",
     "output_type": "stream",
     "text": [
      "\n"
     ]
    }
   ],
   "source": [
    "# Get the total number of lines in the file for tqdm progress bar\n",
    "total_lines = sum(1 for line in open(FILE_PATH_LOG, 'r', encoding='utf-8')) - 1  # Exclude header\n",
    "\n",
    "# Initialize list to store control_doc_interaction for the new task\n",
    "control_doc_interaction = []\n",
    "\n",
    "# Initialize variables to keep track of current impression\n",
    "current_student_id = None\n",
    "current_task_id = None\n",
    "current_query = None\n",
    "impression_docs = set()\n",
    "\n",
    "# Read the file and process as per new requirements\n",
    "try:\n",
    "    with open(FILE_PATH_LOG, 'r', encoding='utf-8') as csvfile:\n",
    "        csvreader = csv.reader(csvfile)\n",
    "        header = next(csvreader)  # Skip the header\n",
    "\n",
    "        for row in tqdm(csvreader, total=total_lines, desc=\"Processing\"):\n",
    "            try:\n",
    "                _, _, student_id, task_id, action, query, content = row\n",
    "\n",
    "                # Skip rows with empty queries or queries not in query_codebook\n",
    "                if query.strip() == '' or query not in query_codebook:\n",
    "                    continue\n",
    "\n",
    "                # Check for new impression\n",
    "                if current_student_id != student_id or current_task_id != task_id or current_query != query:\n",
    "                    # Process unclicked docs for last impression if current_query is initialized\n",
    "                    if current_query:\n",
    "                        for rank in range(10):\n",
    "                            docno = f\"{query_codebook[current_query]}_{rank}\"\n",
    "                            doc_id = f\"{current_student_id}_{current_task_id}_{docno}\"\n",
    "                            if docno in control_doc_set and docno not in impression_docs:\n",
    "                                control_doc_interaction.append({\n",
    "                                    'docno': docno,\n",
    "                                    'rank': rank,\n",
    "                                    'click': False,\n",
    "                                    'endtime': -1,\n",
    "                                    'starttime': -1,\n",
    "                                    'usefulness': int(record_score_map.get(doc_id, '0'))\n",
    "                                })\n",
    "\n",
    "                    # Reset current impression details\n",
    "                    current_student_id = student_id\n",
    "                    current_task_id = task_id\n",
    "                    current_query = query\n",
    "                    impression_docs = set()\n",
    "\n",
    "                # Process CLICK actions\n",
    "                if action == 'CLICK':\n",
    "                    rank = int(content.split('rank=')[1].split('\\t')[0])\n",
    "                    docno = f\"{query_codebook[query]}_{rank}\"\n",
    "                    doc_id = f\"{student_id}_{task_id}_{docno}\"\n",
    "                    impression_docs.add(docno)\n",
    "\n",
    "                    if docno in control_doc_set:\n",
    "                        # Find endtime from next row\n",
    "                        endtime = -1\n",
    "                        next_row = next(csvreader, None)\n",
    "                        if next_row:\n",
    "                            next_student_id = next_row[2]\n",
    "                            next_task_id = next_row[3]\n",
    "                            if next_student_id == student_id and next_task_id == task_id:\n",
    "                                endtime = parse_time(next_row[6])\n",
    "                            else:\n",
    "                                csvreader.line_num -= 1  # Go back one row if next row is not part of current impression\n",
    "\n",
    "                        # Append the click action data to control_doc_interaction\n",
    "                        control_doc_interaction.append({\n",
    "                            'docno': docno,\n",
    "                            'rank': rank,\n",
    "                            'click': True,\n",
    "                            'endtime': endtime,\n",
    "                            'starttime': parse_time(content),\n",
    "                            'usefulness': int(record_score_map.get(doc_id, '0'))\n",
    "                        })\n",
    "            except Exception as e:\n",
    "                handle_exception(e, csvreader.line_num)\n",
    "except Exception as e:\n",
    "    handle_exception(e, \"Reading File\")\n",
    "\n",
    "# Display the first few rows of the control_doc_interaction for review\n",
    "print(len(control_doc_interaction))"
   ]
  },
  {
   "cell_type": "code",
   "execution_count": 154,
   "id": "66c2341a",
   "metadata": {},
   "outputs": [
    {
     "data": {
      "image/png": "[encoded data removed]",
      "text/plain": [
       "<Figure size 720x1080 with 3 Axes>"
      ]
     },
     "metadata": {
      "needs_background": "light"
     },
     "output_type": "display_data"
    }
   ],
   "source": [
    "import matplotlib.pyplot as plt\n",
    "\n",
    "# Extract rank, click, and usefulness values\n",
    "def extract_values(data):\n",
    "    ranks = [item['rank'] for item in data]\n",
    "    clicks = [item['click'] for item in data]\n",
    "    usefulness = [item['usefulness'] for item in data]\n",
    "    return ranks, clicks, usefulness\n",
    "\n",
    "# Adjust the percentage calculation to account for ordering\n",
    "def calculate_percentage_ordered(values, unique_values):\n",
    "    total_len = len(values)\n",
    "    return [values.count(val) / total_len for val in unique_values]\n",
    "\n",
    "target_ranks, target_clicks, target_usefulness = extract_values(target_doc_interaction)\n",
    "control_ranks, control_clicks, control_usefulness = extract_values(control_doc_interaction)\n",
    "\n",
    "# Get unique values for ordering\n",
    "ranks = list(set(target_ranks + control_ranks))\n",
    "click_labels = ['False', 'True']\n",
    "usefulness_values = list(set(target_usefulness + control_usefulness))\n",
    "\n",
    "# Calculate ordered percentages\n",
    "target_ranks_percentage = calculate_percentage_ordered(target_ranks, ranks)\n",
    "control_ranks_percentage = calculate_percentage_ordered(control_ranks, ranks)\n",
    "\n",
    "target_clicks_percentage = calculate_percentage_ordered(target_clicks, [False, True])\n",
    "control_clicks_percentage = calculate_percentage_ordered(control_clicks, [False, True])\n",
    "\n",
    "target_usefulness_percentage = calculate_percentage_ordered(target_usefulness, usefulness_values)\n",
    "control_usefulness_percentage = calculate_percentage_ordered(control_usefulness, usefulness_values)\n",
    "\n",
    "# Plot with y-axis as percentage\n",
    "fig, axs = plt.subplots(3, 1, figsize=(10, 15))\n",
    "width = 0.35\n",
    "\n",
    "# Rank distribution\n",
    "axs[0].bar([rank - width/2 for rank in ranks], target_ranks_percentage, width, label='Target', color='blue')\n",
    "axs[0].bar([rank + width/2 for rank in ranks], control_ranks_percentage, width, label='Control', color='red')\n",
    "axs[0].set_title('Rank Distribution')\n",
    "axs[0].set_xlabel('Rank')\n",
    "axs[0].set_ylabel('Percentage')\n",
    "axs[0].legend()\n",
    "\n",
    "# Click distribution\n",
    "axs[1].bar([x - width/2 for x in range(len(click_labels))], target_clicks_percentage, width, label='Target', color='blue')\n",
    "axs[1].bar([x + width/2 for x in range(len(click_labels))], control_clicks_percentage, width, label='Control', color='red')\n",
    "axs[1].set_title('Click Distribution')\n",
    "axs[1].set_xticks(range(len(click_labels)))\n",
    "axs[1].set_xticklabels(click_labels)\n",
    "axs[1].set_xlabel('Click')\n",
    "axs[1].set_ylabel('Percentage')\n",
    "axs[1].legend()\n",
    "\n",
    "# Usefulness distribution\n",
    "axs[2].bar([val - width/2 for val in usefulness_values], target_usefulness_percentage, width, label='Target', color='blue')\n",
    "axs[2].bar([val + width/2 for val in usefulness_values], control_usefulness_percentage, width, label='Control', color='red')\n",
    "axs[2].set_title('Usefulness Distribution')\n",
    "axs[2].set_xlabel('Usefulness')\n",
    "axs[2].set_ylabel('Percentage')\n",
    "axs[2].legend()\n",
    "\n",
    "plt.tight_layout()\n",
    "plt.show()"
   ]
  },
  {
   "cell_type": "code",
   "execution_count": 155,
   "id": "3d82a4c4",
   "metadata": {},
   "outputs": [
    {
     "data": {
      "text/plain": [
       "{'target_metrics': {'avg_click_prob': 0.243680485338726,\n",
       "  'avg_browsing_time': 7.323559150657229,\n",
       "  'avg_usefulness': 0.9079878665318504,\n",
       "  'avg_rank': 3.6582406471183013},\n",
       " 'control_metrics': {'avg_click_prob': 0.20964942728219368,\n",
       "  'avg_browsing_time': 6.904894133981257,\n",
       "  'avg_usefulness': 0.7948628948281846,\n",
       "  'avg_rank': 3.800416522040958},\n",
       " 't_test_results': {'click_prob': {'t_stat': 2.2360315251047056,\n",
       "   'p_val': 0.025406518733677542},\n",
       "  'browsing_time': {'t_stat': 0.3817819941975059, 'p_val': 0.7026440472711373},\n",
       "  'usefulness': {'t_stat': 2.1763507358829783, 'p_val': 0.02958935059399624},\n",
       "  'rank': {'t_stat': -1.3657345656995254, 'p_val': 0.1721016984740712}}}"
      ]
     },
     "execution_count": 155,
     "metadata": {},
     "output_type": "execute_result"
    }
   ],
   "source": [
    "from scipy import stats\n",
    "\n",
    "\n",
    "# Calculate metrics for a given interaction list\n",
    "def calculate_metrics(interaction_list):\n",
    "    click_probs = [1 if interaction['click'] else 0 for interaction in interaction_list]\n",
    "    avg_click_prob = sum(click_probs) / len(interaction_list)\n",
    "\n",
    "    browsing_times = [interaction['endtime'] - interaction['starttime'] if interaction['click'] else 0 for interaction in interaction_list]\n",
    "    avg_browsing_time = sum(browsing_times) / len(interaction_list)\n",
    "\n",
    "    usefulness_scores = [interaction['usefulness'] for interaction in interaction_list]\n",
    "    avg_usefulness = sum(usefulness_scores) / len(interaction_list)\n",
    "    \n",
    "    ranks = [entry['rank'] for entry in interaction_list]\n",
    "    avg_rank = np.mean(ranks)\n",
    "    \n",
    "    return avg_click_prob, avg_browsing_time, avg_usefulness, avg_rank\n",
    "\n",
    "# Calculate the metrics for both interaction lists\n",
    "target_avg_click_prob, target_avg_browsing_time, target_avg_usefulness, target_avg_rank = calculate_metrics(target_doc_interaction)\n",
    "control_avg_click_prob, control_avg_browsing_time, control_avg_usefulness, control_avg_rank = calculate_metrics(control_doc_interaction)\n",
    "\n",
    "# Conduct t-tests to compare the means\n",
    "click_prob_t_stat, click_prob_p_val = stats.ttest_ind([interaction['click'] for interaction in target_doc_interaction],\n",
    "                                                     [interaction['click'] for interaction in control_doc_interaction])\n",
    "\n",
    "browsing_time_t_stat, browsing_time_p_val = stats.ttest_ind(\n",
    "    [interaction['endtime'] - interaction['starttime'] if interaction['click'] else 0 for interaction in target_doc_interaction],\n",
    "    [interaction['endtime'] - interaction['starttime'] if interaction['click'] else 0 for interaction in control_doc_interaction]\n",
    ")\n",
    "\n",
    "usefulness_t_stat, usefulness_p_val = stats.ttest_ind([interaction['usefulness'] for interaction in target_doc_interaction],\n",
    "                                                     [interaction['usefulness'] for interaction in control_doc_interaction])\n",
    "\n",
    "\n",
    "rank_t_stat, rank_p_val = stats.ttest_ind([interaction['rank'] for interaction in target_doc_interaction],\n",
    "                                                     [interaction['rank'] for interaction in control_doc_interaction])\n",
    "\n",
    "{\n",
    "    \"target_metrics\": {\n",
    "        \"avg_click_prob\": target_avg_click_prob,\n",
    "        \"avg_browsing_time\": target_avg_browsing_time,\n",
    "        \"avg_usefulness\": target_avg_usefulness,\n",
    "        \"avg_rank\": target_avg_rank,\n",
    "    },\n",
    "    \"control_metrics\": {\n",
    "        \"avg_click_prob\": control_avg_click_prob,\n",
    "        \"avg_browsing_time\": control_avg_browsing_time,\n",
    "        \"avg_usefulness\": control_avg_usefulness,\n",
    "        \"avg_rank\": control_avg_rank,\n",
    "    },\n",
    "    \"t_test_results\": {\n",
    "        \"click_prob\": {\"t_stat\": click_prob_t_stat, \"p_val\": click_prob_p_val},\n",
    "        \"browsing_time\": {\"t_stat\": browsing_time_t_stat, \"p_val\": browsing_time_p_val},\n",
    "        \"usefulness\": {\"t_stat\": usefulness_t_stat, \"p_val\": usefulness_p_val},\n",
    "        \"rank\": {\"t_stat\": rank_t_stat, \"p_val\": rank_p_val},\n",
    "    }\n",
    "}"
   ]
  },
  {
   "cell_type": "code",
   "execution_count": null,
   "id": "874001d8",
   "metadata": {},
   "outputs": [],
   "source": []
  }
 ],
 "metadata": {
  "kernelspec": {
   "display_name": "Python 3 (ipykernel)",
   "language": "python",
   "name": "python3"
  },
  "language_info": {
   "codemirror_mode": {
    "name": "ipython",
    "version": 3
   },
   "file_extension": ".py",
   "mimetype": "text/x-python",
   "name": "python",
   "nbconvert_exporter": "python",
   "pygments_lexer": "ipython3",
   "version": "3.9.12"
  }
 },
 "nbformat": 4,
 "nbformat_minor": 5
}
