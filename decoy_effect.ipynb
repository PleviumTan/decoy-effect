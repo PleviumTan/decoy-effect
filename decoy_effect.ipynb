{
 "cells": [
  {
   "cell_type": "markdown",
   "id": "9b12fa0a",
   "metadata": {},
   "source": [
    "# Parse Data"
   ]
  },
  {
   "cell_type": "code",
   "execution_count": 716,
   "id": "95b63115",
   "metadata": {},
   "outputs": [],
   "source": [
    "CUTOFF = 10"
   ]
  },
  {
   "cell_type": "code",
   "execution_count": 695,
   "id": "844d6f82",
   "metadata": {},
   "outputs": [],
   "source": [
    "PATH_THUIR2 = 'data/THUIR2/search_logs.xml'\n",
    "\n",
    "try:\n",
    "    import xml.etree.cElementTree as ET\n",
    "except ImportError:\n",
    "    import xml.etree.ElementTree as ET\n",
    "import json\n",
    "\n",
    "def xml_to_dict(element):\n",
    "    node = {}\n",
    "\n",
    "    text = getattr(element, 'text', None)\n",
    "    if text is not None:\n",
    "        text = text.strip()\n",
    "        # no attributes or children\n",
    "        if text and not element.attrib and len(element) == 0:  \n",
    "            return text\n",
    "\n",
    "    node.update(element.attrib)\n",
    "\n",
    "    for child in element:\n",
    "        child_data = xml_to_dict(child)\n",
    "\n",
    "        if child.tag not in node:\n",
    "            node[child.tag] = child_data\n",
    "        else:\n",
    "            if type(node[child.tag]) is list:\n",
    "                node[child.tag].append(child_data)\n",
    "            else:\n",
    "                node[child.tag] = [node[child.tag], child_data]\n",
    "\n",
    "    return node\n",
    "\n",
    "def parse_xml_to_json(xml_file_path, json_file_path):\n",
    "    # 解析 XML 文件\n",
    "    myParser = ET.XMLParser(encoding=\"utf-8\")\n",
    "    tree = ET.parse(xml_file_path, parser=myParser)\n",
    "    root = tree.getroot()\n",
    "\n",
    "    # 转换为 JSON\n",
    "    data_dict = xml_to_dict(root)\n",
    "    with open(json_file_path, 'w', encoding='utf-8') as json_file:\n",
    "        json.dump(data_dict, json_file, ensure_ascii=False, indent=4)\n",
    "    \n",
    "    return data_dict\n",
    "    \n",
    "\n",
    "thuir2_parsed = parse_xml_to_json(PATH_THUIR2, 'data/THUIR2_parsed.json')\n",
    "thuir2_ss = thuir2_parsed['session']"
   ]
  },
  {
   "cell_type": "code",
   "execution_count": 696,
   "id": "186eea0f",
   "metadata": {},
   "outputs": [],
   "source": [
    "# sample data\n",
    "#print(thuir2_ss[0])"
   ]
  },
  {
   "cell_type": "markdown",
   "id": "7a8bf30b",
   "metadata": {},
   "source": [
    "# Utility Functions to Get Document Usefulness & Relevance"
   ]
  },
  {
   "cell_type": "code",
   "execution_count": 697,
   "id": "1039ae79",
   "metadata": {},
   "outputs": [],
   "source": [
    "import csv\n",
    "\n",
    "PATH_USEFULNESS = 'data/THUIR2/usefulness_annotation.tsv'\n",
    "PATH_RELEVANCE = 'data/THUIR2/relevance_annotation.tsv'\n",
    "# This dict will hold the usefulness data\n",
    "# First key: userid\n",
    "# Second key: docno\n",
    "usefulness_data = {}\n",
    "\n",
    "# Read the CSV file\n",
    "with open(PATH_USEFULNESS, 'r') as file:\n",
    "    reader = csv.reader(file, delimiter='\\t')\n",
    "    next(reader)  # Skip the header row\n",
    "    for row in reader:\n",
    "        # Get the userid, docno, and usefulness from each row\n",
    "        userid = row[1]\n",
    "        docno = row[4]\n",
    "        usefulness = row[8]\n",
    "\n",
    "        # Add the data to the dict\n",
    "        if userid not in usefulness_data:\n",
    "            usefulness_data[userid] = {}\n",
    "        usefulness_data[userid][docno] = int(usefulness)\n",
    "\n",
    "# This dict will hold the relevance data\n",
    "relevance_data = {}\n",
    "\n",
    "# Read the CSV file\n",
    "with open(PATH_RELEVANCE, 'r') as file:\n",
    "    reader = csv.reader(file, delimiter='\\t')\n",
    "    next(reader)  # Skip the header row\n",
    "    for row in reader:\n",
    "        # Get the docno and relevance from each row\n",
    "        docno = row[2]\n",
    "        relevance = row[3]\n",
    "\n",
    "        # Add the data to the dict\n",
    "        relevance_data[docno] = int(relevance)\n",
    "        "
   ]
  },
  {
   "cell_type": "code",
   "execution_count": 820,
   "id": "d5cb9c05",
   "metadata": {},
   "outputs": [],
   "source": [
    "# Print the usefulness data\n",
    "# This is actually no use\n",
    "#print(dict(list(usefulness_data.items())[:5]))"
   ]
  },
  {
   "cell_type": "code",
   "execution_count": 819,
   "id": "6d398268",
   "metadata": {},
   "outputs": [
    {
     "name": "stdout",
     "output_type": "stream",
     "text": [
      "{'199': 1, '18606': 1, '9681': 2, '19787': 2, '20589': 4}\n"
     ]
    }
   ],
   "source": [
    "# Print the relevance data\n",
    "print(dict(list(relevance_data.items())[:5]))"
   ]
  },
  {
   "cell_type": "markdown",
   "id": "9f551b43",
   "metadata": {},
   "source": [
    "# Utility Functions to Compute Sentence Similarity"
   ]
  },
  {
   "cell_type": "code",
   "execution_count": 700,
   "id": "86fb1969",
   "metadata": {},
   "outputs": [],
   "source": [
    "from Levenshtein import distance, ratio\n",
    "import jieba\n",
    "from collections import Counter\n",
    "from math import sqrt\n",
    "\n",
    "SW_PATH = 'utils/stop_words.txt'\n",
    "SW_LIST = [k.strip() for k in open(SW_PATH, encoding='utf8').readlines() if k.strip() != '']\n",
    "\n",
    "# Get Stopword List\n",
    "def get_tl_no_sw(input_sentence):\n",
    "    token_list = jieba.cut(input_sentence)\n",
    "    return list(filter(lambda x: not(x == ' ' or (len(x) == 1 and x in SW_LIST)), token_list))\n"
   ]
  },
  {
   "cell_type": "code",
   "execution_count": 701,
   "id": "6e9ff1c1",
   "metadata": {},
   "outputs": [],
   "source": [
    "# Solution 1\n",
    "# Levenshtein normalized similarity\n",
    "\n",
    "def get_lev_sim(list1, list2):\n",
    "    return ratio(''.join(sl_no_sw_1), ''.join(sl_no_sw_2))\n",
    "\n",
    "# Solution 2\n",
    "# Cosine Similarity\n",
    "\n",
    "def get_cos_sim(list1, list2):\n",
    "    # Step 1: Create a vocabulary\n",
    "    vocab = set(list1) | set(list2)\n",
    "    \n",
    "    # Step 2: Create word frequency vectors\n",
    "    vec1 = Counter(list1)\n",
    "    vec2 = Counter(list2)\n",
    "    \n",
    "    # Step 3: Calculate cosine similarity\n",
    "    intersection = set(vec1.keys()) & set(vec2.keys())\n",
    "    numerator = sum([vec1[x] * vec2[x] for x in intersection])\n",
    "\n",
    "    sum1 = sum([vec1[x]**2 for x in vec1.keys()])\n",
    "    sum2 = sum([vec2[x]**2 for x in vec2.keys()])\n",
    "    denominator = sqrt(sum1) * sqrt(sum2)\n",
    "\n",
    "    if not denominator:\n",
    "        return 0.0\n",
    "    else:\n",
    "        return float(numerator) / denominator\n"
   ]
  },
  {
   "cell_type": "code",
   "execution_count": 702,
   "id": "17c35b7c",
   "metadata": {},
   "outputs": [
    {
     "name": "stdout",
     "output_type": "stream",
     "text": [
      "Lev Sim: 0.512\n",
      "Cos Sim: 0.681\n"
     ]
    }
   ],
   "source": [
    "# sample data\n",
    "sentence1 = '破冰游戏又称融冰游戏，是打破人际交往间怀疑、猜忌，就象打破严冬厚厚的冰层。这个破冰拓展游戏帮助人们变得乐于交往和相互学习，打破陌生人之间的隔膜，消除同事间的积...'\n",
    "sentence2 = '破冰游戏大全提供各种团队破冰游戏和小组破冰游戏，打破人际交往间怀疑、猜忌、疏远的篱樊，帮助人们放松并变得乐于交往和相互学习。'\n",
    "sl_no_sw_1 = get_tl_no_sw(sentence1)\n",
    "sl_no_sw_2 = get_tl_no_sw(sentence2)\n",
    "\n",
    "print(\"Lev Sim: %.3f\" % get_lev_sim(sl_no_sw_1, sl_no_sw_2))\n",
    "print(\"Cos Sim: %.3f\" % get_cos_sim(sl_no_sw_1, sl_no_sw_2))\n"
   ]
  },
  {
   "cell_type": "code",
   "execution_count": 703,
   "id": "18a3ecad",
   "metadata": {},
   "outputs": [],
   "source": [
    "from tqdm import tqdm\n",
    "\n",
    "# Define a placeholder get_sim function for demonstration purpose\n",
    "def get_sim(tl_1, tl_2):\n",
    "    return get_cos_sim(tl_1, tl_2)"
   ]
  },
  {
   "cell_type": "code",
   "execution_count": 539,
   "id": "f2ffa6e9",
   "metadata": {},
   "outputs": [
    {
     "name": "stderr",
     "output_type": "stream",
     "text": [
      "Processing records: 100%|█████████████████████| 225/225 [00:05<00:00, 41.60it/s]\n"
     ]
    }
   ],
   "source": [
    "# Create a dictionary to hold each document's title, snippet grouped by topic\n",
    "documents_by_topic = {}\n",
    "\n",
    "for session in tqdm(thuir2_ss, desc=\"Processing records\"):\n",
    "    topic = session[\"topic\"][\"num\"]\n",
    "    interactions = session[\"interaction\"]\n",
    "    \n",
    "    # Helper function to process results and store document info by topic\n",
    "    def process_results_by_topic(results, topic):\n",
    "        for doc in results:\n",
    "            doc_id = doc[\"id\"]\n",
    "            doc_info = doc[\"title\"] + \" \" + str(doc[\"snippet\"])\n",
    "            doc_token_list = get_tl_no_sw(doc_info)\n",
    "            if topic not in documents_by_topic:\n",
    "                documents_by_topic[topic] = {}\n",
    "            documents_by_topic[topic][doc_id] = doc_info\n",
    "\n",
    "    # Check if interactions is a list or a dict\n",
    "    if isinstance(interactions, list):\n",
    "        for interaction in interactions:\n",
    "            # Check if \"results\" is not empty\n",
    "            if interaction.get(\"results\"):\n",
    "                results = interaction[\"results\"][\"result\"]\n",
    "                process_results_by_topic(results, topic)\n",
    "    elif isinstance(interactions, dict):\n",
    "        # Check if \"results\" is not empty\n",
    "        if interactions.get(\"results\"):\n",
    "            results = interactions[\"results\"][\"result\"]\n",
    "            process_results_by_topic(results, topic)"
   ]
  },
  {
   "cell_type": "code",
   "execution_count": 541,
   "id": "13c22b61",
   "metadata": {},
   "outputs": [],
   "source": [
    "# VERY time consuming\n",
    "def get_similarity_pair():\n",
    "    similarity_scores = {}\n",
    "    # For each topic, compare each document with every other document in the same topic\n",
    "    for topic, documents in documents_by_topic.items():\n",
    "        print(\"Currently processing: \" + topic)\n",
    "        for doc_id1 in tqdm(documents, desc=\"Processing topics\"):\n",
    "            for doc_id2 in documents:\n",
    "                # Ensure doc_id1 is smaller than doc_id2\n",
    "                if doc_id1 >= doc_id2:\n",
    "                    continue\n",
    "                # Calculate similarity\n",
    "                similarity = get_sim(documents[doc_id1], documents[doc_id2])\n",
    "                # Store in the dictionary\n",
    "                if doc_id1 not in similarity_scores:\n",
    "                    similarity_scores[doc_id1] = {}\n",
    "                similarity_scores[doc_id1][doc_id2] = similarity\n",
    "\n",
    "    # Save the similarity scores to a JSON file\n",
    "    OUTPUT_FILE = \"output/similarity_scores.json\"\n",
    "    with open(OUTPUT_FILE, 'w') as f:\n",
    "        json.dump(similarity_scores, f)\n"
   ]
  },
  {
   "cell_type": "code",
   "execution_count": 900,
   "id": "f51ab1f9",
   "metadata": {},
   "outputs": [],
   "source": [
    "#get_similarity_pair()\n",
    "\n",
    "# Read json file directly\n",
    "with open('output/similarity_scores.json', 'r', encoding='utf-8') as file:\n",
    "    similarity_scores = json.load(file)\n"
   ]
  },
  {
   "cell_type": "code",
   "execution_count": 901,
   "id": "f9c78158",
   "metadata": {},
   "outputs": [
    {
     "name": "stdout",
     "output_type": "stream",
     "text": [
      "[('1', '2', 0.45961940777125593), ('1', '3', 0.42759637577789017), ('1', '4', 0.51428352870058), ('1', '5', 0.41316712200642336), ('1', '6', 0.5342072242964954), ('1', '7', 0.37119616932281163), ('1', '8', 0.5458670563274626), ('1', '9', 0.2405626121623441), ('1', '10', 0.4283836420813328), ('1', '14182', 0.3447271465312176), ('1', '14183', 0.2590095632952705), ('1', '14184', 0.3118047822311618), ('1', '14185', 0.15523010514126656), ('1', '14186', 0.1666666666666667), ('1', '14187', 0.2403809869102058), ('1', '14188', 0.3889733106610521), ('1', '14189', 0.11612216904860295), ('1', '14190', 0.10067340828210367), ('1', '14191', 0.09723055853282468), ('1', '16145', 0.3286878675669583)]\n"
     ]
    }
   ],
   "source": [
    "similarity_pair_list = [(docno1, docno2, score) \n",
    "               for docno1, inner_dict in similarity_scores.items() \n",
    "               for docno2, score in inner_dict.items()]\n",
    "\n",
    "print(similarity_pair_list[:20])"
   ]
  },
  {
   "cell_type": "code",
   "execution_count": 902,
   "id": "40e44158",
   "metadata": {},
   "outputs": [
    {
     "data": {
      "text/plain": [
       "{80: 0.3200378765462651,\n",
       " 90: 0.39717310945384937,\n",
       " 95: 0.4673017274310339,\n",
       " 99: 0.6260429022366066,\n",
       " 99.5: 0.7085457904689538,\n",
       " 99.9: 0.9999999999999999}"
      ]
     },
     "execution_count": 902,
     "metadata": {},
     "output_type": "execute_result"
    }
   ],
   "source": [
    "import numpy as np\n",
    "\n",
    "# Extract the similarity scores\n",
    "similarity_list = [x[2] for x in similarity_pair_list]\n",
    "\n",
    "# Function to calculate the xth percentile\n",
    "def calculate_percentile(scores, x):\n",
    "    return np.percentile(scores, x)\n",
    "\n",
    "# Calculate percentiles for 10, 20, 25, 50, 75, 90\n",
    "percentiles = [80, 90, 95, 99, 99.5, 99.9]\n",
    "percentile_values = {x: calculate_percentile(similarity_list, x) for x in percentiles}\n",
    "\n",
    "percentile_values"
   ]
  },
  {
   "cell_type": "code",
   "execution_count": null,
   "id": "b3dcc76e",
   "metadata": {},
   "outputs": [],
   "source": []
  },
  {
   "cell_type": "markdown",
   "id": "e6591e52",
   "metadata": {},
   "source": [
    "# Find Potential Decoy Pairs"
   ]
  },
  {
   "cell_type": "code",
   "execution_count": 903,
   "id": "41805968",
   "metadata": {},
   "outputs": [],
   "source": [
    "#SIM_HERESHOLD_UNIFY = 0.75"
   ]
  },
  {
   "cell_type": "code",
   "execution_count": 1038,
   "id": "266a3c77",
   "metadata": {},
   "outputs": [
    {
     "name": "stderr",
     "output_type": "stream",
     "text": [
      "Processing sessions: 100%|█████████████| 225/225 [00:00<00:00, 5465.92session/s]"
     ]
    },
    {
     "name": "stdout",
     "output_type": "stream",
     "text": [
      "1535\n",
      "[{'session_num': '1', 'interaction_num': '1', 'docno_target': '2', 'rank_target': '1', 'docno_decoy': '6', 'rank_decoy': '5'}, {'session_num': '1', 'interaction_num': '1', 'docno_target': '2', 'rank_target': '1', 'docno_decoy': '10', 'rank_decoy': '9'}, {'session_num': '1', 'interaction_num': '1', 'docno_target': '3', 'rank_target': '2', 'docno_decoy': '6', 'rank_decoy': '5'}, {'session_num': '1', 'interaction_num': '1', 'docno_target': '4', 'rank_target': '3', 'docno_decoy': '6', 'rank_decoy': '5'}, {'session_num': '1', 'interaction_num': '1', 'docno_target': '8', 'rank_target': '7', 'docno_decoy': '6', 'rank_decoy': '5'}, {'session_num': '1', 'interaction_num': '3', 'docno_target': '16145', 'rank_target': '0', 'docno_decoy': '16146', 'rank_decoy': '1'}, {'session_num': '1', 'interaction_num': '3', 'docno_target': '16148', 'rank_target': '3', 'docno_decoy': '16146', 'rank_decoy': '1'}, {'session_num': '3', 'interaction_num': '1', 'docno_target': '1630', 'rank_target': '1', 'docno_decoy': '1637', 'rank_decoy': '8'}, {'session_num': '3', 'interaction_num': '1', 'docno_target': '1631', 'rank_target': '2', 'docno_decoy': '1637', 'rank_decoy': '8'}, {'session_num': '3', 'interaction_num': '1', 'docno_target': '1638', 'rank_target': '9', 'docno_decoy': '1632', 'rank_decoy': '3'}]\n"
     ]
    },
    {
     "name": "stderr",
     "output_type": "stream",
     "text": [
      "\n"
     ]
    }
   ],
   "source": [
    "# 假设的相似度阈值\n",
    "SIM_THRESHOLD_DECOY_MIN = calculate_percentile(similarity_list, 99) \n",
    "SIM_THRESHOLD_DECOY_MAX = 0.95\n",
    "decoy_pair = []  # 初始化 decoy_pair 字典\n",
    "\n",
    "# 定义一个函数来处理交互，这样我们可以在交互是列表或字典时重复使用它\n",
    "def find_decoy_pair(interaction, session_num):\n",
    "    if 'result' not in interaction['results']:\n",
    "        #print(interaction['results'])\n",
    "        return\n",
    "    # 提取 docno 和 rank\n",
    "    docnos = [result['id'] for result in interaction['results']['result']]\n",
    "    ranks = [result['rank'] for result in interaction['results']['result']]\n",
    "    # 提取点击记录，如果存在的话\n",
    "    #clicked_items = []\n",
    "    #if \"clicked\" in interaction and \"click\" in interaction[\"clicked\"]:\n",
    "    #    clicked_items = [item[\"docno\"] for item in interaction[\"clicked\"][\"click\"] if isinstance(item, dict)]\n",
    "    \n",
    "    # 只考虑结果的前K个文档\n",
    "    for i in range(min(CUTOFF, len(docnos))):\n",
    "        for j in range(i+1, min(CUTOFF, len(docnos))):\n",
    "            docno1, rank1 = docnos[i], ranks[i]\n",
    "            docno2, rank2 = docnos[j], ranks[j]\n",
    "            if docno1 > docno2:  # 确保 docno1 < docno2\n",
    "                docno1, docno2 = docno2, docno1\n",
    "                rank1, rank2 = rank2, rank1\n",
    "            # 检查条件\n",
    "            rel_doc1 = relevance_data[docno1] if docno1 in relevance_data else 0\n",
    "            rel_doc2 = relevance_data[docno2] if docno2 in relevance_data else 0\n",
    "            \n",
    "            if similarity_scores[docno1][docno2] >= SIM_THRESHOLD_DECOY_MIN and similarity_scores[docno1][docno2] <= SIM_THRESHOLD_DECOY_MAX:\n",
    "                if rel_doc1 - rel_doc2 >= 2:\n",
    "                #if docno1 in clicked_items and docno2 not in clicked_items:\n",
    "                    decoy_pair.append({'session_num': session_num, 'interaction_num': interaction['num'], \n",
    "                                       'docno_target': docno1, 'rank_target': rank1, \n",
    "                                       'docno_decoy': docno2, 'rank_decoy': rank2})\n",
    "                elif rel_doc2 - rel_doc1 >= 2:\n",
    "                #elif docno2 in clicked_items and docno1 not in clicked_items:\n",
    "                    decoy_pair.append({'session_num': session_num, 'interaction_num': interaction['num'], \n",
    "                                       'docno_target': docno2, 'rank_target': rank2, \n",
    "                                       'docno_decoy': docno1, 'rank_decoy': rank1})\n",
    "\n",
    "\n",
    "# 遍历每条记录\n",
    "for record in tqdm(thuir2_ss, desc=\"Processing sessions\", unit=\"session\"):\n",
    "    session_num = record['num']  # 提取 session num\n",
    "    # 遍历每次交互\n",
    "    interactions = record['interaction']\n",
    "    if isinstance(interactions, list):  # 如果交互是一个列表\n",
    "        for interaction in interactions:\n",
    "            find_decoy_pair(interaction, session_num)\n",
    "    elif isinstance(interactions, dict):  # 如果交互是一个字典\n",
    "        find_decoy_pair(interactions, session_num)\n",
    "        \n",
    "        \n",
    "print(len(decoy_pair))\n",
    "print(decoy_pair[:10])"
   ]
  },
  {
   "cell_type": "code",
   "execution_count": 1039,
   "id": "322cb228",
   "metadata": {
    "scrolled": true
   },
   "outputs": [
    {
     "name": "stdout",
     "output_type": "stream",
     "text": [
      "Decoy Pairs Count: 1535\n",
      "Count of Documents that have at least one decoy: 459\n"
     ]
    }
   ],
   "source": [
    "decoy_index = [item['docno_target'] for item in decoy_pair]\n",
    "print(\"Decoy Pairs Count: %d\"%len(decoy_index))\n",
    "print(\"Count of Documents that have at least one decoy: %d\"%len(set(decoy_index)))\n",
    "#print(decoy_index[:5])"
   ]
  },
  {
   "cell_type": "markdown",
   "id": "5686c8e3",
   "metadata": {},
   "source": [
    "# Find Control Documents"
   ]
  },
  {
   "cell_type": "code",
   "execution_count": 1040,
   "id": "fa029845",
   "metadata": {},
   "outputs": [
    {
     "name": "stdout",
     "output_type": "stream",
     "text": [
      "0.7085457904689538\n",
      "Count of Target Documents that have at least one Control Document: 373\n",
      "Count of Control Documents: 968\n"
     ]
    }
   ],
   "source": [
    "# Assuming a threshold for the sake of demonstration\n",
    "SIM_THRESHOLD_CONTROL = calculate_percentile(similarity_list, 99.5)  \n",
    "print(SIM_THRESHOLD_CONTROL)\n",
    "target_doc_list = []\n",
    "control_doc_list = []\n",
    "\n",
    "# Processing the data as per given conditions\n",
    "for docno1, docno2, similarity_score in similarity_pair_list:\n",
    "    if similarity_score > SIM_THRESHOLD_CONTROL:\n",
    "        # 检查条件\n",
    "        rel_doc1 = relevance_data[docno1] if docno1 in relevance_data else 0\n",
    "        rel_doc2 = relevance_data[docno2] if docno2 in relevance_data else 0\n",
    "        if abs(rel_doc1 - rel_doc2 <= 2):\n",
    "            if (docno1 in decoy_index and docno2 not in decoy_index):\n",
    "                target_doc_list.append(docno1)\n",
    "                control_doc_list.append(docno2)\n",
    "            elif (docno2 in decoy_index and docno1 not in decoy_index):\n",
    "                target_doc_list.append(docno2)\n",
    "                control_doc_list.append(docno1)\n",
    "\n",
    "target_doc_set = set(target_doc_list)\n",
    "print(\"Count of Target Documents that have at least one Control Document: %d\"% len(target_doc_set))\n",
    "control_doc_set = set(control_doc_list)\n",
    "print(\"Count of Control Documents: %d\" % len(control_doc_set))"
   ]
  },
  {
   "cell_type": "code",
   "execution_count": 1041,
   "id": "c191f5b6",
   "metadata": {},
   "outputs": [
    {
     "name": "stdout",
     "output_type": "stream",
     "text": [
      "Records of decoy target documents, by impression : 1000\n"
     ]
    }
   ],
   "source": [
    "decoy_target_record = []\n",
    "decoy_decoy_record = []\n",
    "for item in decoy_pair:\n",
    "    if item['docno_target'] in target_doc_set:\n",
    "        target_id = item['session_num'] + '_' + item['interaction_num'] + '_' + item['docno_target']\n",
    "        decoy_id =  item['session_num'] + '_' + item['interaction_num'] + '_' + item['docno_decoy']\n",
    "        decoy_target_record.append(target_id)\n",
    "        decoy_decoy_record.append(decoy_id)\n",
    "    \n",
    "decoy_target_record = set(decoy_target_record)\n",
    "decoy_decoy_record = set(decoy_decoy_record)\n",
    "\n",
    "print(\"Records of decoy target documents, by impression : %d\"%len(decoy_target_record))\n",
    "#print(len(decoy_decoy_record))"
   ]
  },
  {
   "cell_type": "markdown",
   "id": "20df24d8",
   "metadata": {},
   "source": [
    "# Compare User Feedback"
   ]
  },
  {
   "cell_type": "code",
   "execution_count": 1042,
   "id": "b91b2222",
   "metadata": {},
   "outputs": [
    {
     "name": "stdout",
     "output_type": "stream",
     "text": [
      "987\n"
     ]
    }
   ],
   "source": [
    "def process_user_feedback(results, decoy_target_record, session_num, interaction_num):\n",
    "    \"\"\"\n",
    "    Process the results to extract required information.\n",
    "    \"\"\"\n",
    "    interactions_list = []\n",
    "    \n",
    "    for item in results:\n",
    "        record_id = session_num + '_' + interaction_num + '_' + item['id']\n",
    "        # Check if record_id is in decoy_target_record\n",
    "        # And whether the document has at least one control document\n",
    "        if record_id in decoy_target_record and int(item['rank']) < CUTOFF:\n",
    "            if \"clicked\" in interaction and \"click\" in interaction[\"clicked\"]:\n",
    "                clicked_items = interaction[\"clicked\"][\"click\"]\n",
    "                clicked = False\n",
    "                endtime = -1\n",
    "                starttime = -1\n",
    "                usefulness = 0\n",
    "                for click_item in clicked_items:\n",
    "                    if isinstance(click_item, dict) and item['id'] == click_item[\"docno\"]:\n",
    "                        clicked = True\n",
    "                        endtime = float(click_item['endtime'])\n",
    "                        starttime = float(click_item['starttime'])\n",
    "                        usefulness = float(click_item[\"annotation\"]['score'])\n",
    "                        break\n",
    "            else:\n",
    "                clicked = False\n",
    "                endtime = -1\n",
    "                starttime = -1\n",
    "                usefulness = 0\n",
    "\n",
    "            if clicked:\n",
    "                interactions_list.append({'docno': item['id'], 'rank':  int(item[\"rank\"]), 'click': True, 'endtime': endtime, 'starttime': starttime, 'usefulness': usefulness})\n",
    "            else:\n",
    "                interactions_list.append({'docno': item['id'], 'rank':   int(item[\"rank\"]), 'click': False, 'endtime': -1, 'starttime': -1, 'usefulness': 0})\n",
    "                \n",
    "    return interactions_list\n",
    "\n",
    "\n",
    "target_doc_interaction = []\n",
    "\n",
    "for session in thuir2_ss:\n",
    "    session_num = session[\"num\"]\n",
    "    interactions = session[\"interaction\"]\n",
    "    \n",
    "    # Check if interactions is a list or a dict\n",
    "    if isinstance(interactions, list):\n",
    "        for interaction in interactions:\n",
    "            interaction_num = interaction[\"num\"]\n",
    "            if interaction.get(\"results\"):\n",
    "                results = interaction[\"results\"][\"result\"]\n",
    "                interactions_list = process_user_feedback(results, decoy_target_record, session_num, interaction_num)\n",
    "                target_doc_interaction.extend(interactions_list)\n",
    "    \n",
    "    elif isinstance(interactions, dict):\n",
    "        interaction_num = interactions[\"num\"]\n",
    "        if interaction.get(\"results\"):\n",
    "            results = interactions[\"results\"][\"result\"]\n",
    "            interactions_list = process_user_feedback(results, decoy_target_record, session_num, interaction_num)\n",
    "            target_doc_interaction.extend(interactions_list)\n",
    "\n",
    "print(len(target_doc_interaction))"
   ]
  },
  {
   "cell_type": "code",
   "execution_count": 1043,
   "id": "9a64a285",
   "metadata": {},
   "outputs": [
    {
     "name": "stdout",
     "output_type": "stream",
     "text": [
      "1508\n"
     ]
    }
   ],
   "source": [
    "def process_control_docs(results, control_doc_set):\n",
    "    \"\"\"\n",
    "    Process the results to extract required information for control docs.\n",
    "    \"\"\"\n",
    "    interactions_list = []\n",
    "    \n",
    "    for item in results:\n",
    "        # Check if the item's id is in control_doc_set\n",
    "        if item['id'] in control_doc_set and int(item['rank']) < CUTOFF:\n",
    "            if \"clicked\" in interaction and \"click\" in interaction[\"clicked\"]:\n",
    "                clicked_items = interaction[\"clicked\"][\"click\"]\n",
    "                clicked = False\n",
    "                endtime = -1\n",
    "                starttime = -1\n",
    "                usefulness = 0\n",
    "                for click_item in clicked_items:\n",
    "                    if isinstance(click_item, dict) and item['id'] == click_item[\"docno\"]:\n",
    "                        clicked = True\n",
    "                        endtime = float(click_item['endtime'])\n",
    "                        starttime = float(click_item['starttime'])\n",
    "                        usefulness = float(click_item[\"annotation\"]['score'])\n",
    "                        break\n",
    "            else:\n",
    "                clicked = False\n",
    "                endtime = -1\n",
    "                starttime = -1\n",
    "                usefulness = 0\n",
    "\n",
    "            if clicked:\n",
    "                interactions_list.append({'docno': item['id'], 'rank':  int(item[\"rank\"]), 'click': True, 'endtime': endtime, 'starttime': starttime, 'usefulness': usefulness})\n",
    "            else:\n",
    "                interactions_list.append({'docno': item['id'], 'rank':  int(item[\"rank\"]), 'click': False, 'endtime': -1, 'starttime': -1, 'usefulness': 0})\n",
    "                \n",
    "    return interactions_list\n",
    "\n",
    "# Initialize the list for control doc interactions\n",
    "control_doc_interaction = []\n",
    "\n",
    "for session in thuir2_ss:\n",
    "    interactions = session[\"interaction\"]\n",
    "    \n",
    "    # Check if interactions is a list or a dict\n",
    "    if isinstance(interactions, list):\n",
    "        for interaction in interactions:\n",
    "            if interaction.get(\"results\"):\n",
    "                results = interaction[\"results\"][\"result\"]\n",
    "                interactions_list = process_control_docs(results, control_doc_set)\n",
    "                control_doc_interaction.extend(interactions_list)\n",
    "    \n",
    "    elif isinstance(interactions, dict):\n",
    "        if interaction.get(\"results\"):\n",
    "            results = interactions[\"results\"][\"result\"]\n",
    "            interactions_list = process_control_docs(results, control_doc_set)\n",
    "            control_doc_interaction.extend(interactions_list)\n",
    "        \n",
    "print(len(control_doc_interaction))"
   ]
  },
  {
   "cell_type": "code",
   "execution_count": 1044,
   "id": "4c722bc6",
   "metadata": {},
   "outputs": [
    {
     "data": {
      "text/plain": [
       "[{'docno': '2',\n",
       "  'rank': 1,\n",
       "  'click': False,\n",
       "  'endtime': -1,\n",
       "  'starttime': -1,\n",
       "  'usefulness': 0},\n",
       " {'docno': '3',\n",
       "  'rank': 2,\n",
       "  'click': False,\n",
       "  'endtime': -1,\n",
       "  'starttime': -1,\n",
       "  'usefulness': 0},\n",
       " {'docno': '4',\n",
       "  'rank': 3,\n",
       "  'click': False,\n",
       "  'endtime': -1,\n",
       "  'starttime': -1,\n",
       "  'usefulness': 0}]"
      ]
     },
     "execution_count": 1044,
     "metadata": {},
     "output_type": "execute_result"
    }
   ],
   "source": [
    "target_doc_interaction[:3]"
   ]
  },
  {
   "cell_type": "code",
   "execution_count": 1045,
   "id": "7a711438",
   "metadata": {},
   "outputs": [
    {
     "data": {
      "image/png": "[encoded data removed]",
      "text/plain": [
       "<Figure size 720x1080 with 3 Axes>"
      ]
     },
     "metadata": {
      "needs_background": "light"
     },
     "output_type": "display_data"
    }
   ],
   "source": [
    "import matplotlib.pyplot as plt\n",
    "\n",
    "# Extract rank, click, and usefulness values\n",
    "def extract_values(data):\n",
    "    ranks = [item['rank'] for item in data]\n",
    "    clicks = [item['click'] for item in data]\n",
    "    usefulness = [item['usefulness'] for item in data]\n",
    "    return ranks, clicks, usefulness\n",
    "\n",
    "# Adjust the percentage calculation to account for ordering\n",
    "def calculate_percentage_ordered(values, unique_values):\n",
    "    total_len = len(values)\n",
    "    return [values.count(val) / total_len for val in unique_values]\n",
    "\n",
    "target_ranks, target_clicks, target_usefulness = extract_values(target_doc_interaction)\n",
    "control_ranks, control_clicks, control_usefulness = extract_values(control_doc_interaction)\n",
    "\n",
    "# Get unique values for ordering\n",
    "ranks = list(set(target_ranks + control_ranks))\n",
    "click_labels = ['False', 'True']\n",
    "usefulness_values = list(set(target_usefulness + control_usefulness))\n",
    "\n",
    "# Calculate ordered percentages\n",
    "target_ranks_percentage = calculate_percentage_ordered(target_ranks, ranks)\n",
    "control_ranks_percentage = calculate_percentage_ordered(control_ranks, ranks)\n",
    "\n",
    "target_clicks_percentage = calculate_percentage_ordered(target_clicks, [False, True])\n",
    "control_clicks_percentage = calculate_percentage_ordered(control_clicks, [False, True])\n",
    "\n",
    "target_usefulness_percentage = calculate_percentage_ordered(target_usefulness, usefulness_values)\n",
    "control_usefulness_percentage = calculate_percentage_ordered(control_usefulness, usefulness_values)\n",
    "\n",
    "# Plot with y-axis as percentage\n",
    "fig, axs = plt.subplots(3, 1, figsize=(10, 15))\n",
    "width = 0.35\n",
    "\n",
    "# Rank distribution\n",
    "axs[0].bar([rank - width/2 for rank in ranks], target_ranks_percentage, width, label='Target', color='blue')\n",
    "axs[0].bar([rank + width/2 for rank in ranks], control_ranks_percentage, width, label='Control', color='red')\n",
    "axs[0].set_title('Rank Distribution')\n",
    "axs[0].set_xlabel('Rank')\n",
    "axs[0].set_ylabel('Percentage')\n",
    "axs[0].legend()\n",
    "\n",
    "# Click distribution\n",
    "axs[1].bar([x - width/2 for x in range(len(click_labels))], target_clicks_percentage, width, label='Target', color='blue')\n",
    "axs[1].bar([x + width/2 for x in range(len(click_labels))], control_clicks_percentage, width, label='Control', color='red')\n",
    "axs[1].set_title('Click Distribution')\n",
    "axs[1].set_xticks(range(len(click_labels)))\n",
    "axs[1].set_xticklabels(click_labels)\n",
    "axs[1].set_xlabel('Click')\n",
    "axs[1].set_ylabel('Percentage')\n",
    "axs[1].legend()\n",
    "\n",
    "# Usefulness distribution\n",
    "axs[2].bar([val - width/2 for val in usefulness_values], target_usefulness_percentage, width, label='Target', color='blue')\n",
    "axs[2].bar([val + width/2 for val in usefulness_values], control_usefulness_percentage, width, label='Control', color='red')\n",
    "axs[2].set_title('Usefulness Distribution')\n",
    "axs[2].set_xlabel('Usefulness')\n",
    "axs[2].set_ylabel('Percentage')\n",
    "axs[2].legend()\n",
    "\n",
    "plt.tight_layout()\n",
    "plt.show()"
   ]
  },
  {
   "cell_type": "code",
   "execution_count": 1046,
   "id": "a785729a",
   "metadata": {},
   "outputs": [
    {
     "data": {
      "text/plain": [
       "{'target_metrics': {'avg_click_prob': 0.1540020263424519,\n",
       "  'avg_browsing_time': 6.379857142857142,\n",
       "  'avg_usefulness': 0.39918946301925023,\n",
       "  'avg_rank': 2.7720364741641337},\n",
       " 'control_metrics': {'avg_click_prob': 0.11007957559681697,\n",
       "  'avg_browsing_time': 3.4430935013262616,\n",
       "  'avg_usefulness': 0.2493368700265252,\n",
       "  'avg_rank': 4.446949602122016},\n",
       " 't_test_results': {'click_prob': {'t_stat': 3.222305468494078,\n",
       "   'p_val': 0.001288022569712457},\n",
       "  'browsing_time': {'t_stat': 2.9186483528622875,\n",
       "   'p_val': 0.0035470123050321506},\n",
       "  'usefulness': {'t_stat': 4.043137566815833, 'p_val': 5.434043827840075e-05},\n",
       "  'rank': {'t_stat': -15.266702813893916, 'p_val': 2.2527967092934344e-50}}}"
      ]
     },
     "execution_count": 1046,
     "metadata": {},
     "output_type": "execute_result"
    }
   ],
   "source": [
    "from scipy import stats\n",
    "\n",
    "\n",
    "# Calculate metrics for a given interaction list\n",
    "def calculate_metrics(interaction_list):\n",
    "    click_probs = [1 if interaction['click'] else 0 for interaction in interaction_list]\n",
    "    avg_click_prob = sum(click_probs) / len(interaction_list)\n",
    "\n",
    "    browsing_times = [interaction['endtime'] - interaction['starttime'] if interaction['click'] else 0 for interaction in interaction_list]\n",
    "    avg_browsing_time = sum(browsing_times) / len(interaction_list)\n",
    "\n",
    "    usefulness_scores = [interaction['usefulness'] for interaction in interaction_list]\n",
    "    avg_usefulness = sum(usefulness_scores) / len(interaction_list)\n",
    "    \n",
    "    ranks = [entry['rank'] for entry in interaction_list]\n",
    "    avg_rank = np.mean(ranks)\n",
    "    \n",
    "    return avg_click_prob, avg_browsing_time, avg_usefulness, avg_rank\n",
    "\n",
    "# Calculate the metrics for both interaction lists\n",
    "target_avg_click_prob, target_avg_browsing_time, target_avg_usefulness, target_avg_rank = calculate_metrics(target_doc_interaction)\n",
    "control_avg_click_prob, control_avg_browsing_time, control_avg_usefulness, control_avg_rank = calculate_metrics(control_doc_interaction)\n",
    "\n",
    "# Conduct t-tests to compare the means\n",
    "click_prob_t_stat, click_prob_p_val = stats.ttest_ind([interaction['click'] for interaction in target_doc_interaction],\n",
    "                                                     [interaction['click'] for interaction in control_doc_interaction])\n",
    "\n",
    "browsing_time_t_stat, browsing_time_p_val = stats.ttest_ind(\n",
    "    [interaction['endtime'] - interaction['starttime'] if interaction['click'] else 0 for interaction in target_doc_interaction],\n",
    "    [interaction['endtime'] - interaction['starttime'] if interaction['click'] else 0 for interaction in control_doc_interaction]\n",
    ")\n",
    "\n",
    "usefulness_t_stat, usefulness_p_val = stats.ttest_ind([interaction['usefulness'] for interaction in target_doc_interaction],\n",
    "                                                     [interaction['usefulness'] for interaction in control_doc_interaction])\n",
    "\n",
    "\n",
    "rank_t_stat, rank_p_val = stats.ttest_ind([interaction['rank'] for interaction in target_doc_interaction],\n",
    "                                                     [interaction['rank'] for interaction in control_doc_interaction])\n",
    "\n",
    "{\n",
    "    \"target_metrics\": {\n",
    "        \"avg_click_prob\": target_avg_click_prob,\n",
    "        \"avg_browsing_time\": target_avg_browsing_time,\n",
    "        \"avg_usefulness\": target_avg_usefulness,\n",
    "        \"avg_rank\": target_avg_rank,\n",
    "    },\n",
    "    \"control_metrics\": {\n",
    "        \"avg_click_prob\": control_avg_click_prob,\n",
    "        \"avg_browsing_time\": control_avg_browsing_time,\n",
    "        \"avg_usefulness\": control_avg_usefulness,\n",
    "        \"avg_rank\": control_avg_rank,\n",
    "    },\n",
    "    \"t_test_results\": {\n",
    "        \"click_prob\": {\"t_stat\": click_prob_t_stat, \"p_val\": click_prob_p_val},\n",
    "        \"browsing_time\": {\"t_stat\": browsing_time_t_stat, \"p_val\": browsing_time_p_val},\n",
    "        \"usefulness\": {\"t_stat\": usefulness_t_stat, \"p_val\": usefulness_p_val},\n",
    "        \"rank\": {\"t_stat\": rank_t_stat, \"p_val\": rank_p_val},\n",
    "    }\n",
    "}"
   ]
  },
  {
   "cell_type": "code",
   "execution_count": 1049,
   "id": "0b370a33",
   "metadata": {},
   "outputs": [
    {
     "data": {
      "text/plain": [
       "[{'group': 1,\n",
       "  'target_metrics': (0.13708690330477355,\n",
       "   4.9168384332925354,\n",
       "   0.3292533659730722,\n",
       "   1.9192166462668299),\n",
       "  'control_metrics': (0.16508795669824086,\n",
       "   5.240001353179974,\n",
       "   0.37889039242219213,\n",
       "   1.9066305818673883),\n",
       "  'click_prob_ttest': Ttest_indResult(statistic=-1.5432703643214574, pvalue=0.12296879179316386),\n",
       "  'view_time_ttest': Ttest_indResult(statistic=-0.24533597350721467, pvalue=0.8062286940592597),\n",
       "  'usefulness_ttest': Ttest_indResult(statistic=-1.0344548899753965, pvalue=0.30108450515544916),\n",
       "  'rank_ttest': Ttest_indResult(statistic=0.17810341463747134, pvalue=0.8586649738636337)},\n",
       " {'group': 2,\n",
       "  'target_metrics': (0.23529411764705882,\n",
       "   13.410952941176477,\n",
       "   0.7352941176470589,\n",
       "   6.870588235294117),\n",
       "  'control_metrics': (0.05721716514954486,\n",
       "   1.7162860858257478,\n",
       "   0.12483745123537061,\n",
       "   6.888166449934981),\n",
       "  'click_prob_ttest': Ttest_indResult(statistic=7.576227979862494, pvalue=8.527213464915415e-14),\n",
       "  'view_time_ttest': Ttest_indResult(statistic=6.334324093746058, pvalue=3.695484394285196e-10),\n",
       "  'usefulness_ttest': Ttest_indResult(statistic=8.948453398697941, pvalue=1.8958037521137197e-18),\n",
       "  'rank_ttest': Ttest_indResult(statistic=-0.13895765727698772, pvalue=0.889513468078459)},\n",
       " {'group': 3,\n",
       "  'target_metrics': (0.3333333333333333,\n",
       "   17.80979487179487,\n",
       "   1.0256410256410255,\n",
       "   9.0),\n",
       "  'control_metrics': (0.0625, 1.5936187500000003, 0.1625, 9.0),\n",
       "  'click_prob_ttest': Ttest_indResult(statistic=5.011441410555579, pvalue=1.199130785884266e-06),\n",
       "  'view_time_ttest': Ttest_indResult(statistic=4.469020606343502, pvalue=1.3240620590660502e-05),\n",
       "  'usefulness_ttest': Ttest_indResult(statistic=5.102719616212777, pvalue=7.852505568413515e-07),\n",
       "  'rank_ttest': Ttest_indResult(statistic=nan, pvalue=nan)},\n",
       " {'group': 4,\n",
       "  'target_metrics': (0.3333333333333333,\n",
       "   17.80979487179487,\n",
       "   1.0256410256410255,\n",
       "   9.0),\n",
       "  'control_metrics': (0.0625, 1.5936187500000003, 0.1625, 9.0),\n",
       "  'click_prob_ttest': Ttest_indResult(statistic=5.011441410555579, pvalue=1.199130785884266e-06),\n",
       "  'view_time_ttest': Ttest_indResult(statistic=4.469020606343502, pvalue=1.3240620590660502e-05),\n",
       "  'usefulness_ttest': Ttest_indResult(statistic=5.102719616212777, pvalue=7.852505568413515e-07),\n",
       "  'rank_ttest': Ttest_indResult(statistic=nan, pvalue=nan)},\n",
       " {'group': 5,\n",
       "  'target_metrics': (0.3333333333333333,\n",
       "   17.80979487179487,\n",
       "   1.0256410256410255,\n",
       "   9.0),\n",
       "  'control_metrics': (0.0625, 1.5936187500000003, 0.1625, 9.0),\n",
       "  'click_prob_ttest': Ttest_indResult(statistic=5.011441410555579, pvalue=1.199130785884266e-06),\n",
       "  'view_time_ttest': Ttest_indResult(statistic=4.469020606343502, pvalue=1.3240620590660502e-05),\n",
       "  'usefulness_ttest': Ttest_indResult(statistic=5.102719616212777, pvalue=7.852505568413515e-07),\n",
       "  'rank_ttest': Ttest_indResult(statistic=nan, pvalue=nan)}]"
      ]
     },
     "execution_count": 1049,
     "metadata": {},
     "output_type": "execute_result"
    }
   ],
   "source": [
    "# Split the interactions into three groups based on rank\n",
    "def split_by_rank(interactions):\n",
    "    group1 = [item for item in interactions if 0 <= item['rank'] <= 4]\n",
    "    group2 = [item for item in interactions if 5 <= item['rank'] <= 9]\n",
    "    group3 = [item for item in interactions if 9 <= item['rank'] <= 9]\n",
    "    group4 = [item for item in interactions if 9 <= item['rank'] <= 9]\n",
    "    group5 = [item for item in interactions if item['rank'] >= 9]\n",
    "    return group1, group2, group3, group4, group5\n",
    "\n",
    "# Split target and control interactions by rank\n",
    "target_groups = split_by_rank(target_doc_interaction)\n",
    "control_groups = split_by_rank(control_doc_interaction)\n",
    "\n",
    "# Calculate metrics for each group and perform t-tests\n",
    "results = []\n",
    "\n",
    "for i in range(5):\n",
    "    target_metrics = calculate_metrics(target_groups[i])\n",
    "    control_metrics = calculate_metrics(control_groups[i])\n",
    "\n",
    "    click_prob_ttest = ttest_ind([entry['click'] for entry in target_groups[i]], [entry['click'] for entry in control_groups[i]])\n",
    "    rank_ttest = ttest_ind([entry['rank'] for entry in target_groups[i]], [entry['rank'] for entry in control_groups[i]])\n",
    "    view_time_ttest = ttest_ind([entry['endtime'] - entry['starttime'] if entry['click'] else 0 for entry in target_groups[i]], \n",
    "                                [entry['endtime'] - entry['starttime'] if entry['click'] else 0 for entry in control_groups[i]])\n",
    "    usefulness_ttest = ttest_ind([entry['usefulness'] for entry in target_groups[i]], [entry['usefulness'] for entry in control_groups[i]])\n",
    "\n",
    "    results.append({\n",
    "        'group': i+1,\n",
    "        'target_metrics': target_metrics,\n",
    "        'control_metrics': control_metrics,\n",
    "        'click_prob_ttest': click_prob_ttest,\n",
    "        'view_time_ttest': view_time_ttest,\n",
    "        'usefulness_ttest': usefulness_ttest,\n",
    "        'rank_ttest': rank_ttest,\n",
    "    })\n",
    "\n",
    "results"
   ]
  },
  {
   "cell_type": "code",
   "execution_count": 1048,
   "id": "7e307bb7",
   "metadata": {},
   "outputs": [],
   "source": [
    "# Impression Level"
   ]
  },
  {
   "cell_type": "markdown",
   "id": "30a735ed",
   "metadata": {},
   "source": [
    "# Effect of Decoy (distance?)"
   ]
  },
  {
   "cell_type": "markdown",
   "id": "1debcf68",
   "metadata": {},
   "source": [
    "# Feature "
   ]
  },
  {
   "cell_type": "code",
   "execution_count": null,
   "id": "f13b1dc5",
   "metadata": {},
   "outputs": [],
   "source": []
  },
  {
   "cell_type": "code",
   "execution_count": null,
   "id": "749c77b7",
   "metadata": {},
   "outputs": [],
   "source": []
  }
 ],
 "metadata": {
  "kernelspec": {
   "display_name": "Python 3 (ipykernel)",
   "language": "python",
   "name": "python3"
  },
  "language_info": {
   "codemirror_mode": {
    "name": "ipython",
    "version": 3
   },
   "file_extension": ".py",
   "mimetype": "text/x-python",
   "name": "python",
   "nbconvert_exporter": "python",
   "pygments_lexer": "ipython3",
   "version": "3.9.12"
  }
 },
 "nbformat": 4,
 "nbformat_minor": 5
}
